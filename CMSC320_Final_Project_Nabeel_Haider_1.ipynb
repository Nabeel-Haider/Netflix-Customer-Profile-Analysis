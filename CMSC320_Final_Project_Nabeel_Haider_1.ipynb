{
  "nbformat": 4,
  "nbformat_minor": 0,
  "metadata": {
    "colab": {
      "provenance": []
    },
    "kernelspec": {
      "name": "python3",
      "display_name": "Python 3"
    },
    "language_info": {
      "name": "python"
    }
  },
  "cells": [
    {
      "cell_type": "markdown",
      "source": [
        "# <h1><center>Netflix Customer Profile Analysis</center></h1>\n",
        "\n",
        "# <center>![BrandAssets_Logos_01-Wordmark.jpg](data:image/jpeg;base64,/9j/4AAQSkZJRgABAQEA2ADYAAD/2wBDAAMCAgMCAgMDAwMEAwMEBQgFBQQEBQoHBwYIDAoMDAsKCwsNDhIQDQ4RDgsLEBYQERMUFRUVDA8XGBYUGBIUFRT/2wBDAQMEBAUEBQkFBQkUDQsNFBQUFBQUFBQUFBQUFBQUFBQUFBQUFBQUFBQUFBQUFBQUFBQUFBQUFBQUFBQUFBQUFBT/wAARCAIRA6wDAREAAhEBAxEB/8QAHQABAAMBAQEBAQEAAAAAAAAAAAUGBwgEAgMBCf/EAFAQAQABAgIFBggJCQUHBQEAAAABAgMEBQYHETayEhMhMXSBFBU1UXFykbEXMkFSc6GzwtEWIiNCYWWkweIzVYST0jRDRVSClKMkYoOSovD/xAAdAQEAAwEBAAMBAAAAAAAAAAAABgcIBQQBAgMJ/8QAThEBAAECAgQICQgGCAYDAQAAAAECAwQFBxFxsQYhMTQ1c4GyEhMUFSI2QXKRMjNRYYKhwdEXQrPC4fAWUmNkkqPS40NTVIOi8SNEk2L/2gAMAwEAAhEDEQA/AP8ANQAAAAAAAAAAAAAAAAAAAAAAAAAAAAAAAAAAAAAAAAAAAAAAAAAAAAAAAAAAAAAAAAAAAAAAAAAAAAAAAAAAAAAAAAAAAAAAAAAAAAAAAAAAAAAAAAAAAAAAAAAAAAAAAAAAAAAAAAAAAAAAAAAAAAAAAAAAAAAAAAAAAAAAAAAAAAAAAAAAAAAAAAAAAAAAAAAAAAAAAAAAAAAAAAAAAAAAAAAAAAAAAAAAAAAAAAAAAAAAAAAAAAAAAAAAAAAAAAAAAAAAAAAAAAAAAAAAAAAAAAAAAAAAAAAAAAAAAAAAAAAAAAAAAAAAAAAAAAAAAAAAAAAAAAAAAAAAAAAAAAAAAAAAAAAAAAAAAAAAAAAAAAAAAAAAAAAAAAAAAAAAAAAAAAAAAAAAAAAAAAAAAAAAAAAAAAAAAAAAAAAAAAAAAAAAAAAAAAAAAAAAAAAAAAAAAAAAAAAAAAAAAAAAAAAAAAAAAAAAAAAAAAAAAAAAAAAAAAAAAAAAAAAAAAAAAAAAAAAAAAAAAAAAAAAAAAAAAAAAAAAAAAAAAAAAAAAAAAAAAAAAAAAAAAAAAAAAAAAAAAAAAAAAAAAAAAAAAAAAAAAAAAAAAAAAAAAAAAAAAAAAAAAAAAAAAAAAAAAAAAAAAAAAAAAAAAAAAAAAAAAAAAAAAAAAAAAAAAAAAAAAAAAAAAAAAAAAAAAAAAAAAAAAAAAAAAAAAAAAAAAAAAAAAAAAAAAAAAAAAAAAAAAAAAAAAAAAAAAAAAAAAAAAAAAAAAAAAAAAAAAAAAAAAAAAAAAAAAAAAAAAAAAAAAAAAAAAAAAAAAAAAAAAAAAAAAAAAAAAAAAAAAAAAAAAAAAAAAAAAAAAAAAAAAAAAAAAAAAAAAAAAAAAAAAAAAAAAAAAAAAAAAAAAAAAAAAAAAAAAAAAAAAAAAAAAAAAAAAAAAAAAAAAAAAAAAAAAAAAAAAAAAAAAAAAAAAAAAAAAAAAAAAAAAAAAAAAAAAAAAAAAAAAAAAAAAAAAAAAAAAAAAAAAAAAAAAAAAAAAAAAAAAAAAAAAAAAAAAAAAAAAAAAAAAAAAAAAAAAAAAAAAAAAAAAAAAAAAAAAAAAAAAAAAAAAAAAAAAAAAAAAAAAAAAAAAAAAAAAAAAAAAAAAAAAAAAAAAAAAAAAAAAAAAAAAAAAAAAAAAAAAAAAAAAAAAAAAAAAAAAAAAAAAAAAAAAAAAAAAAAAAAAAAAAAAAAAAAAAAAAAAAAAAAAAAAAAAAAAAAAAAAAAAAAAAAAAAAAAAAAAAAAAAAAAAAAAAAAAAAAAAAAAAAAAAAAAAAAAAAAAAAAAAAAAAAAAAAAAAAAAAAAAAAAAAAAAAAAAAAAAAAAAAAAAAAAAAAAAAAAAAAAAAAAAAAAAAAAAAAAAAAAAAAAAAAAAAAAAAAAAAAAAAAAAAAAAAAAAAAAAAAAAAAAAAAAAAAAAAAAAAAAAAAAAAAAAAAAAAAAAAAAAAAAAAAAAAAAAAAAAAAAAAAAAAAAAAAAAAAAAAAAAAAAAAAAAAAAAAAAAAAAAAAAAAAAAAAAAAAAAAAAAAAAAAAAAAAAAAAAAAAAAAAAAAAAAAAAAAAAAAAAAAAAAAAAAAAAAAAAAAAAAAAAAAAAAAAAAAAAAAAAAAAAAAAAAAAAAAAAAAAAAAAAAAAAAAAAAAAAAAAAAAAAAAAAAAAAAAAAAAAAAAAAAAAAAAAAAAAAAAAAAAAAAAAAAAAAAAAAAAAAAAAAAAAAAAAAAAAAAAAAAAAAAAAAAAAAAAAAAAAAAAAAAAAAAAAAAAAAAAAAAAAAAAAAAAAAAAAAAAAAAAAAAAAAAAAAAAAAAAAAAAAAAAAAAAAAAAAAAAAAAAAAAAAAAAAAAAAAAAAAAAAAAAAAAAAAAAAAAAAAAAAAAAAAAAAAAAAAAAAAAAAAAAAAAAAAAAAAAAAAAAAAAAAAAAAAAAAAAAAAAAAAAAAAAAAAAAAAAAAAAAAAAAAAAAAAAAAAAAAAAAAAAAAAAAAAAAAAAAAAAAAAAAAAAAAAAAAAAAAAAAAAAAAAAAAAAAAAAAAAAAAAAAAAAAAAAAAAAAAAAAAAAAAAAAAAAAAAAAAAAAAAAAAAAAAAAAAAAAAAAAAAAAAAAAAAAAAAAAAAAAAAAAAAAAAAAAAAAAAAAAAAAAAAAAAAAAAAAAAAAAAAAAAAAAAAAAAAAAAAAAAAAAAAAAAAAAAAAAAAAAAAAAAAAAAAAAAAAAAAAAAAAAAAAAAAAAAAAAAAAAAAAAAAAAAAAAAAAAAAAAAAAAAAAAAAAAAAAAAAAAAAAAAAAAAAAAAAAAAAAAAAAAAAAAAAAAAAAAAAAAAAAAAAAAAAAAAAAAAAAAAAAAAAAAAAAAAAAAAAAAAAAAAAAAAAAAAAAAAAAAAAAAAAAAAAAAAAAAAAAAAAAAAAAAAAAAAAAAAAAAAAAAAAAAAAAAAAAAAAAAAAAAAAAAAAAAAAAAAAAAAAAAAAAAAAAAAAAAAAAAAAAAAAAAAAAAAAAAAAAAAAAAAAAAAAAAAAAAAAAAAAAAAAAAAAAAAAAAAAAAAAAAAAAAAAAAAAAAAAAAAAAAAAAAAAAAAAAAAAAAAAAAAAAAAAAAAAAAAAAAAAAAAAAAAAAAAAAAAAAAAAAAAAAAAAAAAAAAAAAAAAAAAAAAAAAAAAAAAAAAAAAAAAAAAAAAAAAAAAAAAAAAAAAAAAAAAAAAAAAAAAAAAAAAAAAAAAAAAAAAAAAAAAAAAAAAAAAAAAAAAAAAAAAAAAAAAAAAAAAAAAAAAAAAAAAAAAAAAAAAAAAAAAAAAAAAAAAAAAAAAAAAAAAAAAAAAAAAAAAAAAAAAAAAAAAAAAAAAAAAAAAAAAAAAAAAAAAAAAAAAAAAAAAAAAAAAAAAAAAAAAAAAAAAAAAAAAAAAAAAAAAAAAAAAAAAAAAAAAAAAAAAAAAAAAAAAAAAAAAAAAAAAAAAAAAHRmiu7GT9js8EK0xfOLnvTvb+4M9B4HqrfcpSjypKputXJvGWjFeIop23cHVF2NnXyeqqP59ztZRf8ViPBnkq4vyVJpNynzjkdWIoj07E+F9nkq+70p91iKdsbgLJq630yz16uCpzMy5pX/PthYPAD1mwe2ruVN8V63EAw3WpvnivUt8MJ7lPNKe3exfpM9Zb3u0d2FRdhVi46qN8bP0Vz3OLm/NZ2wtjRh6x2/dr3NvQRssAAAABStbu6X+Io90u5k3OuyVPaVPV/8A7lO6piicset01W7l4P17nHKA5tzurs3NpaNfVmxtr78rY5C0QAAAAAHMuM/2u/69XvWlR8mH858Xzi5707101Pb03uy18VDh51zaNsbpW7on6eudVV3qGzIS12AAAAAo+uHdW12qjhqd7JeczsnfCmNLHQNHW092ti6bsht31Y7kZd6bn2lSv8155X2bobZ0ceq+F+3+0rWlyllK1rJ3JzP0UfaUuplnO6O3dKutIXqxi9lPfpYIsFiEAAAAB0XolutlHZLXBCtcZzm5tne33wX6CwPVW+7CVeRKFH1w7q2u1UcNTvZLzmdk74UxpY6Bo62nu1sXTdkN6srzC5lOZYbGWv7SxciuI8+yerv6n5XbcXrdVurkmHSyzH3MrxtnG2flW6oq26p5O3kl0jg8Vbx2Es4izPKtXaIuUz54mNsKyrom3VNFXLD+g2ExNvG4e3ibM66a4iqNkxrh+r6PWputTJPGmjVWIop23sHVzsbOvk9VUezZP/S7WU3/ABWI8CeSri7fYqTSZk/nLJJxNEa67E+F9nkqj4aqp91iKdsbgLZq0yLx1pNZrrp24fCfp69vVMx8WPb090uRmmI8Rh5iOWri/NZ+jvJPPGd0V3I127Ppztj5Mds8f1xEt0QFtQBluuPPeVcwuU26uin9Pe2efqpj3z3wlmS4fVFV+dkfizTpazvwq7OT2p5PTr28lMfDXPbDMUpZyAAAAAAAAAAAAAAAAAAAAAAAAAAAAAAAAAAAAAAAAAAAAAAAAAAAAAAAAAdGaK7sZP2OzwQrTF84ue9O9v7gz0Hgeqt9ylKPKkr4xFijFYe7Zu08q3cpmiqmfliY2TD7U1TRVFVPLD8L9i3ibVdi7GumqJiY+mJjVLm7N8uryjNMVgrnx7FyaNvniJ6J746Vm2bsXrdNyPbD+fGa5fcyrHXsDd5bdUxt1TxT2xxvG/Zylk1db6ZZ69XBU5mZc0r/AJ9sLB4Aes2D21dypvivW4gGG61N88V6lvhhPcp5pT272L9JnrLe92juwqLsKsXHVRvjZ+iue5xc35rO2FsaMPWO37te5t6CNlgAAAAKVrd3S/xFHul3Mm512Sp7Sp6v/wDcp3VMUTlj1umq3cvB+vc45QHNud1dm5tLRr6s2NtfflbHIWiAAAAAA5lxn+13/Xq960qPkw/nPi+cXPeneump7em92WviocPOubRtjdK3dE/T1zqqu9Q2ZCWuwAAAAFH1w7q2u1UcNTvZLzmdk74UxpY6Bo62nu1sXTdkNu+rHcjLvTc+0qV/mvPK+zdDbOjj1Xwv2/2la0uUspWtZO5OZ+ij7Sl1Ms53R27pV1pC9WMXsp79LBFgsQgAAAAOi9Et1so7Ja4IVrjOc3Ns72++C/QWB6q33YSryJQo+uHdW12qjhqd7JeczsnfCmNLHQNHW092ti6bshgNn1SZ14wyCvBV1bbuDr2Rt+ZVtmPr2x7EIzix4u/FyOSrfDXeizOPLsoqwNyfTsTq+zVrmPhOuNkQvLgrofF6zRiLNdq5TFduumaaqZ+WJ6Jh801TTMVRyw/G9aov26rVyNdNUTEx9MTxTDnHPsqryTOMXga9u2zcmmJn5aeuJ742SszD3Yv2qbke2H8/c7yyvJsyv4C5/wAOqYj645YntjVLwPQ4jcdV+ReKNG6L9ynZfxk89Vt64p/Vj2dPegea4jx2ImmOSni/NszRtknmrJab9yNVy/6c+7+rHw4/tLe4y1354rE28Hhrt+9VyLVqia66p+SIjbL7UUzXVFNPLLzYnEW8JYrxF6dVNETMz9ERGuXOOd5pczvNsVjrvxr1c1bPmx8kd0bI7lmWLUWLVNun2P5/ZxmdzOMwvY+7y3KpnZHsjsjVHY8L93GAAAAAAAAAAAAAAAAAAAAAAAAAAAAAAAAAAAAAAAAAAAAAAAAAAAAAAAAAdGaK7sZP2OzwQrTF84ue9O9v7gz0Hgeqt9ylKPKkoDINcOTeC5vh8xop/MxVHIrn/wB9P4xs9iZZLf8ADtTan9XdP8WUtLOU+TZjazKiPRuxqn3qfzp1fCWfJGolZNXW+mWevVwVOZmXNK/59sLB4Aes2D21dypvivW4gGG61N88V6lvhhPcp5pT272L9JnrLe92juwqLsKsXHVRvjZ+iue5xc35rO2FsaMPWO37te5t6CNlgKBpBrW8RZzisB4r5/mKuTznhHJ5XRE9XJnzpDhso8otU3fGatf1fxUZn2k7zJmV7L/I/D8XOrX4zVr4onk8CdXL9KO+G39zfxX9D0+Yv7X7v4uB+mP+4f5v+2fDb+5v4r+g8xf2v3fxP0x/3D/N/wBs+G39zfxX9B5i/tfu/ifpj/uH+b/toXS7WR+VWU+BeLvBf0lNznOf5fVt6NnJjzvfg8s8ku+M8PXxfRq/FD+FWkL+k2X+QeS+L9KKtfh+Fya+LV4FP0/SpLuKeXrRbWf+TWS2cv8AFvhPNzVPOc/ydu2Znq5M+dwMXlXlV6bvh6tf1fxXTwa0j/0dyy3l3knjPBmZ8Lw/B165meTwJ+n6Ut8Nv7m/iv6Hj8xf2v3fxSj9Mf8AcP8AN/23oy/XF4fj8NhvFHI567Tb5XhO3ZtmI27OR+1+dzJfF0VV+M5I18n8XvwGlny7F2cL5Dq8ZVTTr8Zr1eFMRr1eLjXq1/S0hGWgwFQ0z1gfkhjrGH8A8L523znK57kbOmY2bOTPmdnA5d5ZRNfh6tU6uTX+KqeF/Dr+iuKt4bybxvh0+Fr8PwdXHMatXg1fQr3w2/ub+K/odHzF/a/d/FA/0x/3D/N/2z4bf3N/Ff0HmL+1+7+J+mP+4f5v+2zK9c529XXs2cqqatnm2pTTGqIhnO9c8bcquatWuZn4rvqe3pvdlr4qHCzrm0bY3SuPRP09c6qrvUNmQlrsBneca3PFOa4vBeKed8Hu1W+X4Ts5Wydm3ZyOhJLOTeOtU3PGatca+T+Kg820qea8ffwPkXheLqmnX4zVr1Tq16vAnV8ZeP4bf3N/Ff0P28xf2v3fxcn9Mf8AcP8AN/2z4bf3N/Ff0HmL+1+7+J+mP+4f5v8Atnw2/ub+K/oPMX9r938T9Mf9w/zf9tB6YaxvysyqjBeL/BeTdi7y+f5fVExs2cmPO9+CyzyO54zw9fFq5NX4oZws0gf0owFOB8l8XqqirX4fhckTGrV4FP0/SpbuKhbvqx3Iy703PtKlf5rzyvs3Q2zo49V8L9v9pWtLlLKVrWTuTmfoo+0pdTLOd0du6VdaQvVjF7Ke/SwRYLEIAAAADovRLdbKOyWuCFa4znNzbO9vvgv0Fgeqt92Eq8iUKPrh3Vtdqo4aneyXnM7J3wpjSx0DR1tPdrYum7IYC06t868TaU4eK6tlnE/oK+/4s+3Z9bk5nY8fhp1ctPH/AD2LK0e5x5pz61Fc6qLvoT2/Jn/Fq7Jlu6ANsgMp1yZLzeKwmaW6fzbscxdmPnR00z3xt9iXZJf101WJ9nHH4sxaW8n8XfsZtbjir9CrbHHTPbGuPswpmiuSVaQZ9hMFETzddXKuTHyUR01fV0d7t4u/GGs1XPb7NqoeDOT1Z7m1jAx8mZ11fVTHHV93FH1zDoiiim3RTTTEU00xsiI6ohW0zMzrlviimmimKKY1RHI/o+6h63M98AyS3l9urZexlX52zri3T0z7Z2R7UgyfD+MvTdnkp3qS0p535DldOXW59O/PH7lPHPxnVH1xrY2mrJIAAAAAAAAAAAAAAAAAAAAAAAAAAAAAAAAAAAAAAAAAAAAAAAAAAAAAAAAADozRXdjJ+x2eCFaYvnFz3p3t/cGeg8D1VvuUpR5UlAVrWJk/jnRXF0008q9Yjn7fpp6/q2uplt/xGJpmeSeL4/xV3w+ynzvkF+mmNddv06dtPL8adcbWCLBYgWTV1vplnr1cFTmZlzSv+fbCweAHrNg9tXcqb4r1uIBhutTfPFepb4YT3KeaU9u9i/SZ6y3vdo7sKi7CrFx1Ub42fornucXN+azthbGjD1jt+7XubegjZYDAdYO+WafSRwwsPLuaW9n4sM8O/WTGe9HdhXXSQIAAAAABIaPeX8t7Ta44efE/MV7J3O7kPS2E6yjvQ6QVk/oMAyHXP5cwPZvvSmWSfM17fwZU0u9KYbq/3pZ6kahwAF61Pb03uy18VDgZ1zaNsbpXRon6eudVV3qGzIS12A530x3qzbtVzilZGC5tb2QwRwt6fx3WV75Q72omAAAA3fVjuRl3pufaVK/zXnlfZuhtnRx6r4X7f7StaXKWUrWsncnM/RR9pS6mWc7o7d0q60herGL2U9+lgiwWIQAAAAHReiW62UdktcEK1xnObm2d7ffBfoLA9Vb7sJV5EoUfXDura7VRw1O9kvOZ2TvhTGljoGjrae7WxdN2QwH9pqmmqJiZiY6YmPkOV8xM0zFVM6ph0VornMZ9kGDxu2JuV0bLn7K46KvrhWuLseT36rfsjk2N9cGc2jPMow+O1+lVGqr3o4qvvjXH1akq8iUIfS/JfH+juMwcRtuzRy7Xrx0x7erve3BX/J79Nz2e3YiXCvKIzzJ7+CiNdUxrp96njj4zxbJlUdT2Q+D4HE5pdp2XL881a2x+pE9M989H/S7GdYjwq6bFPs452/8Areq3RPknk+Fu5tdj0rk+DT7sT6U9tXF9loyNL/Ac/wCnOe/lBpJisRTVyrFueas+bk0/L3ztnvWJgMP5Ph6aZ5Z452sK8NM78+51exFE67dPo0e7T7e2ddXar7ooMAAAAAAAAAAAAAAAAAAAAAAAAAAAAAAAAAAAAAAAAAAAAAAAAAAAAAAAAAA6M0V3YyfsdnghWmL5xc96d7f3BnoPA9Vb7lKUeVJQCYiqJiY2xPRMSPiYiqNU8jnTSnKJyLP8bgtmyi3cmbfqT00/VMLKwl7yixTc+nf7WA+EuVTkub4jA6uKmr0fdnjp+6Y7Xv1db6ZZ69XBU8+Zc0r/AJ9sO3wA9ZsHtq7lTfFetxAMN1qb54r1LfDCe5TzSnt3sX6TPWW97tHdhUXYVYuOqjfGz9Fc9zi5vzWdsLY0Yesdv3a9zb0EbLAYDrB3yzT6SOGFh5dzS3s/Fhnh36yYz3o7sK66SBAAAAAAJDR7y/lvabXHDz4n5ivZO53ch6WwnWUd6HSCsn9BgGQ65/LmB7N96UyyT5mvb+DKml3pTDdX+9LPUjUOAAvWp7em92WviocDOubRtjdK6NE/T1zqqu9Q2ZCWuwHO+mO9WbdqucUrIwXNreyGCOFvT+O6yvfKHe1EwAAAG76sdyMu9Nz7SpX+a88r7N0Ns6OPVfC/b/aVrS5Syla1k7k5n6KPtKXUyzndHbulXWkL1Yxeynv0sEWCxCAAAAA6L0S3WyjslrghWuM5zc2zvb74L9BYHqrfdhKvIlCj64d1bXaqOGp3sl5zOyd8KY0sdA0dbT3a2LpuyGAA03U1nXJuYzKrlXRV+ntRPn6qo9090otndjXFN+Nk/g0Zojzjwa7+UXJ5fTp28UVR8NU9ktTRNpcB8WbNvD24t2qKbdEbdlNMbIj5XzVVNU66p4342bNuxRFu1TFNMeyPr432+H7K1rDz3xFoziKqKuTiMR+gtefbPXPdG3v2OpluH8oxERPJHHKu+Hud+ZMju1UTquXPQp2zyz2U6526mCLBYgAAAAAAAAAAAAAAAAAAAAAAAAAAAAAAAAAAAAAAAAAAAAAAAAAAAAAAAAAAAdGaK7sZP2OzwQrTF84ue9O9v7gz0Hgeqt9ylKPKkoADLdc2T8m5gs0op6Ko8HuT+3pmn73shLMkv8VVmdsfj+DNOlzKdVeHzaiOX0Kvvmn974QqurrfTLPXq4KnWzLmlf8APthWfAD1mwe2ruVN8V63EAw3WpvnivUt8MJ7lPNKe3exfpM9Zb3u0d2FRdhVi46qN8bP0Vz3OLm/NZ2wtjRh6x2/dr3NvQRssBh+nORZni9Lcyu2Muxd61Vciaa7diqqmfzY6piE8wGIs0YWimquInbDGfDTJM0xXCHF3bGFuV0zVGqYoqmJ9GOSYjUg/wAls6n/AIRj/wDtq/we/wArw/8AzKfjCGf0azyf/o3f/wA6/wAn9/JTO/7ox3/bV/g+PK8P/wAyn4w+39GM9/6G7/8AnX+Tz47Jcwyy3TcxmBxGFoqnkxVetVUxM+bph+lu/auzqt1ROyXgxuT5jl1EXMbh67dMzqiaqZpiZ+jjh4n7uQAAAkNHvL+W9ptccPPifmK9k7ndyHpbCdZR3odIKyf0GAZDrn8uYHs33pTLJPma9v4MqaXelMN1f70s9SNQ4AC9ant6b3Za+KhwM65tG2N0ro0T9PXOqq71DZkJa7AY1pJq9z/MNIMxxNjA85Zu3666KuetxtiZ6Oiak2wuZYW3Yooqr44iPZP5Mj8IeAfCLHZvisVh8NrorrqmJ8OiNcTPFxTVE/FG/BjpL/d3/nt/6np864P+v90/kj36OOFH/S/+dv8A1nwY6S/3d/57f+o864P+v90/kfo44Uf9L/52/wDWjc70UzTR23auZhhuYpuzNNE85TVtmPRMvVYxdnEzMWqter6p/FHs44MZtkFFFzMbPgRXMxHpUzrmPdmUQ9iLAN31Y7kZd6bn2lSv8155X2bobZ0ceq+F+3+0rWlyllK1rJ3JzP0UfaUuplnO6O3dKutIXqxi9lPfpYIsFiEAAAAB0XolutlHZLXBCtcZzm5tne33wX6CwPVW+7CVeRKFH1w7q2u1UcNTvZLzmdk74UxpY6Bo62nu1sXTdkMABJaO5vVkWd4PHU7dlq5E1RHy0z0VR7Jl5sTZjEWarc+3+YSDIM0qyXNLGPp/UqjX9dM8VUdsTLoy3cpvW6a6KoqoqiKqao6piVaTExOqW/7dym7RFyidcTGuJ+mJfT4foAAxXWvnvjPSDwO3VtsYKOR0dU1z8b+Ud0pxlGH8VY8ZPLVu9jH2k/O/OWceRW59CxGr7U8dXw4qdsSpLuqdAAAAAAAAAAAAAAAAAAAAAAAAAAAAAAAAAAAAAAAAAAAAAAAAAAAAAAAAAAAdGaK7sZP2OzwQrTF84ue9O9v7gz0Hgeqt9ylKPKkoACG0wyfx7o5jcJFPKuzRy7fr09Me3Zs73twV/wAnv03PZ7diJcK8p895NiMHEa6pjXT71PHHxmNWyWOaut9Ms9ergqTXMuaV/wA+2GSuAHrNg9tXcqb4r1uIBhutTfPFepb4YT3KeaU9u9i/SZ6y3vdo7sKi7CrFx1Ub42fornucXN+azthbGjD1jt+7XubegjZYAAADPtc/kLA9p+7UkeSfPV7PxUTpd6Kw/Wfu1MgTJlIAABIaPeX8t7Ta44efE/MV7J3O7kPS2E6yjvQ6QVk/oMAyHXP5cwPZvvSmWSfM17fwZU0u9KYbq/3pZ6kahwAF61Pb03uy18VDgZ1zaNsbpXRon6eudVV3qGzIS12AAAAzjXT5Pyz6Wv3Qk2R/Lr2Qz5pg5nhPeq3QyZL2XwG76sdyMu9Nz7SpX+a88r7N0Ns6OPVfC/b/AGla0uUspWtZO5OZ+ij7Sl1Ms53R27pV1pC9WMXsp79LBFgsQgAAAAOi9Et1so7Ja4IVrjOc3Ns72++C/QWB6q33YSryJQo+uHdW12qjhqd7JeczsnfCmNLHQNHW092ti6bshgAANy1X51420YtWa6tt7BzzNXq/qz7OjuQLNbHicRNUclXH+bZ2jfOPOmRUWa5112J8CdnLTPw4uyVucdaoCO0izijIclxeOr2bbVEzTE/rVT0Ux7Zh6cNZnEXqbUe1H8/zajJMsv4+v9SOKPpqnipjtmYc53r1eIu13blU13K6pqqqnrmZ65WVTEUxFMckMA3btd+5VduTrqqmZmfpmeOZfD7PyAAAAAAAAAAAAAAAAAAAAAAAAAAAAAAAAAAAAAAAAAAAAAAAAAAAAAAAAAAAdGaK7sZP2OzwQrTF84ue9O9v7gz0Hgeqt9ylKPKkqD0rzjxJGVYiqrk2qsdRauebk1UVxtn0dE9z34Sz4/xlMcvgzMdkwhXCfNvM0YLEVTqom9TTV7tVNccezinsTjwJqAyTD5P4k1u2LNNPJs3LlV635uTVRVP1TtjuTCq/4/K5qnliNU9kwyzYynzPpDt2aY1UVVVV07KqKp+6dcdjW0PamAYbrU3zxXqW+GE9ynmlPbvYv0mest73aO7CouwqxcdVG+Nn6K57nFzfms7YWxow9Y7fu17m3oI2WAAAAz7XP5CwPafu1JHknz1ez8VE6XeisP1n7tTIEyZSAAASGj3l/Le02uOHnxPzFeydzu5D0thOso70OkFZP6DAMh1z+XMD2b70plknzNe38GVNLvSmG6v96WepGocABetT29N7stfFQ4Gdc2jbG6V0aJ+nrnVVd6hsyEtdgAAAM410+T8s+lr90JNkfy69kM+aYOZ4T3qt0MmS9l8Bu+rHcjLvTc+0qV/mvPK+zdDbOjj1Xwv2/wBpWtLlLKVrWTuTmfoo+0pdTLOd0du6VdaQvVjF7Ke/SwRYLEIAAAADovRLdbKOyWuCFa4znNzbO9vvgv0Fgeqt92Eq8iUKPrh3Vtdqo4aneyXnM7J3wpjSx0DR1tPdrYum7IYAADQdTVeJjO8ZTbjbhZsbbsz1RVt/N7/jfWjmdxR4mmZ5dfF+K9tEdWKjNMRTbj/4po9Lbr9Ht+V2a2voa1aAzbXRisRRg8uw9MTGFuV1V11R8tURGyPZM/8A9CT5HRRNddc8sM9aXsTiaMNhcNTH/wAVU1TM/TVERqj4TM/X2MoS5mEAAAAAAAAAAAAAAAAAAAAAAAAAAAAAAAAAAAAAAAAAAAAAAAAAAAAAAAAAAAB0Zoruxk/Y7PBCtMXzi57072/uDPQeB6q33KUo8qSqLri3Xsdro4K3fyXnM7J3wpXSz0Fa62nu1rBobnHjzRvA4qqrlXZo5Fz16eifbs297nY2z4jEVUez2bJTvglm3nrJcPi6p11eDqq96nin46tfamnhS9Xc+ybn9I8hzKin86xdrtXJj5tVFWz2TxOlh7/g4e7Zn2xEx2TH89iA53lPjs6y3NKI47dVVNXu1UVavhVxfaWJzU+AYbrU3zxXqW+GE9ynmlPbvYv0mest73aO7CouwqxcdVG+Nn6K57nFzfms7YWxow9Y7fu17m3oI2WAy/SrWdmuSZ/jMDYs4SqzZrimmblFU1T0RPTsq/aleEyqxfsU3KpnXOz8mbeE2kfN8nzfEYDD27c0UTqiZiqZ5Inj1VxHt+hETrgzyf8AdYOP/jq/1PZ5lw30z8Y/JFZ0sZ9P6lr/AA1f63z8L+e/Mwn+VP8AqfPmbDfTPx/g+n6Vs/8A6tv/AAz/AKkTpHpxmOlGFtYfGU2Iot185HNUTE7dkx55872YbAWsJVNVvXx/Si3CDhnmfCWxRh8bFMU0z4UeDExOvVMe2Z+lXnRQQAABIaPeX8t7Ta44efE/MV7J3O7kPS2E6yjvQ6QVk/oMAyHXP5cwPZvvSmWSfM17fwZU0u9KYbq/3pZ6kahwAF61Pb03uy18VDgZ1zaNsbpXRon6eudVV3qGzIS12AxbSbTvPcDpDmOHsZhXbs2r9dFFEUUzsiJ6I6k4wuX4a5Yorqo45iPpY/4R8NuEGCzjFYbD4qaaKK6oiNVPFETxRx0oz4RdI/7zr/y6PwerzbhP6m/80d/p/wAJv+sn/DR/pPhF0j/vOv8Ay6PwPNuE/qb/AMz+n/Cb/rJ/w0f6Ufm+k2Z59bt0Y/F1Yim3MzTE00xsmfRD02cLZw8zNqnVrcLNeEea55RRbzG9NyKZ1xriI1TOyIRb1I2A3fVjuRl3pufaVK/zXnlfZuhtnRx6r4X7f7StaXKWUrWsncnM/RR9pS6mWc7o7d0q60herGL2U9+lgiwWIQAAAAHReiW62UdktcEK1xnObm2d7ffBfoLA9Vb7sJV5EoUfXDura7VRw1O9kvOZ2TvhTGljoGjrae7WxdN2QwAAG5asci8TaNW7tdOzEYyeeq29cU/qx7OnvlAs1xHj8RNMclPF+baGjjJPNOSUXrkarl/052fqx8OPbMrc460wFd1gZL480XxdumnlXrMc/a8+2nrjvjbHe6WXX/EYimZ5J4p7UA4dZP55yK9apjXXR6dO2nljtp1x2sBWGw2AAAAAAAAAAAAAAAAAAAAAAAAAAAAAAAAAAAAAAAAAAAAAAAAAAAAAAAAAAAA6M0V3YyfsdnghWmL5xc96d7f3BnoPA9Vb7lKUeVJVF1xbrWO10cFbv5Lzmdk74UrpZ6CtdbT3a0RqZzjZVjssrq69mItx9VX3frezO7PFTejZP4fiiuiLNtVWIyqueX06fupq/d+9qKKNKHWPgHyAw3WpvnivUt8MJ7lPNKe3exfpM9Zb3u0d2FRdhVi46qN8bP0Vz3OLm/NZ2wtjRh6x2/dr3NvQRssBgOsHfLNPpI4YWHl3NLez8WGeHfrJjPejuwrrpIEAAAAAAkNHvL+W9ptccPPifmK9k7ndyHpbCdZR3odIKyf0GAZDrn8uYHs33pTLJPma9v4MqaXelMN1f70s9SNQ4AC9ant6b3Za+KhwM65tG2N0ro0T9PXOqq71DZkJa7Ac76Y71Zt2q5xSsjBc2t7IYI4W9P47rK98od7UTAAAAbvqx3Iy703PtKlf5rzyvs3Q2zo49V8L9v8AaVrS5Syla1k7k5n6KPtKXUyzndHbulXWkL1Yxeynv0sEWCxCAAAAA6L0S3WyjslrghWuM5zc2zvb74L9BYHqrfdhKvIlCj64d1bXaqOGp3sl5zOyd8KY0sdA0dbT3a2LpuyGAAmNEsknSHSDCYPZM2qquVdmPkojpn8O94sZf8msVXPb7NqWcFsmnPs3sYLV6Mzrq92OOfjyR9cw6HppiimKaYiKYjZER8it5nXxy3rTTFMRTTGqIf0fYAHw570zyXxBpJjMLTTybPK5y16lXTHs6u5Y2Bv+UYemueXknbDB3C/J/MedX8JTGqjX4VPu1ccfDk7EG96HAAAAAAAAAAAAAAAAAAAAAAAAAAAAAAAAAAAAAAAAAAAAAAAAAAAAAAAAAAAOjNFd2Mn7HZ4IVpi+cXPene39wZ6DwPVW+5SlHlSVRdcW61jtdHBW7+S85nZO+FK6WegrXW092tmOiWb+ItIsDjJnZbpuRTc9Seir6p2pVjLPlFiq37fZtZw4LZr5lznD42Z1UxVqq92riq+ETr2w6I61bN8coPkABhutTfPFepb4YT3KeaU9u9i/SZ6y3vdo7sKi7CrFx1Ub42fornucXN+azthbGjD1jt+7XubegjZYDAdYO+WafSRwwsPLuaW9n4sM8O/WTGe9HdhXXSQIAAAAABIaPeX8t7Ta44efE/MV7J3O7kPS2E6yjvQ6QVk/oMAyHXP5cwPZvvSmWSfM17fwZU0u9KYbq/3pZ6kahwAF61Pb03uy18VDgZ1zaNsbpXRon6eudVV3qGzIS12A530x3qzbtVzilZGC5tb2QwRwt6fx3WV75Q72omAAAA3fVjuRl3pufaVK/wA155X2bobZ0ceq+F+3+0rWlyllK1rJ3JzP0UfaUuplnO6O3dKutIXqxi9lPfpYIsFiEAAAAB0XolutlHZLXBCtcZzm5tne33wX6CwPVW+7CVeRKFH1w7q2u1UcNTvZLzmdk74UxpY6Bo62nu1sXTdkMABrmp7IvBsuxGaXKdleInm7Uz8yJ6Z754UOzrEeFcizHs452/8Are1PonyTyfB3c2ux6V2fBp92meOe2rutERtfgPgidocoPlnGuPJeewOFzSin86zVzNyY+bPVPdPEk2SX/Brqsz7eOP5/nkZ+0tZP47C2c2txx258Cr3Z44nsq4vtMmS9l0AAAAAAAAAAAAAAAAAAAAAAAAAAAAAAAAAAAAAAAAAAAAAAAAAAAAAAAAAAB0Zoruxk/Y7PBCtMXzi57072/uDPQeB6q33KUo8qSqLri3Wsdro4K3fyXnM7J3wpXSz0Fa62nu1sZTZkZ0BoFnHjrRbBXqquVdt08zc9ano+uNk96u8ws+IxNVMck8cdrdHAjNvPGQ4e9VOuumPAq208XHtjVPasDnJ2AAw3WpvnivUt8MJ7lPNKe3exfpM9Zb3u0d2FRdhVi46qN8bP0Vz3OLm/NZ2wtjRh6x2/dr3NvQRssBgOsHfLNPpI4YWHl3NLez8WGeHfrJjPejuwrrpIE/e1gMTe/s8PduerRMvzm5RTy1Q9tvA4q983aqq2UzP4PXb0aze98TK8bX6MPXP8n5TirFPLcj4w6dvg9nN35vB3Z2W6vyMdo5mmWYbwjF4C/hrO2KeXdommNs/IW8TZu1eBRXEyY3g/muXWfKMZhq7dGvVrqiY452o16UfAASGj3l/Le02uOHnxPzFeydzu5D0thOso70OkFZP6DAMh1z+XMD2b70plknzNe38GVNLvSmG6v96WepGocABetT29N7stfFQ4Gdc2jbG6V0aJ+nrnVVd6hsyEtdgOd9Md6s27Vc4pWRgubW9kMEcLen8d1le+UO9qJgAAAN31Y7kZd6bn2lSv8155X2bobZ0ceq+F+3+0rWlyllIXTPK8RnWjONwWFpiq/dinkxVOyOiuJ6/RD3YG7TYxFNyvkj8kP4XZbiM4yTEYHCRruV+Dq1zq5KqZ5dkMkr1X6R0dWBpr9W/R/OUwjNcJP633T+TLVejbhNTyYeJ2V0fjVDz3NXekVvryy5Pq10Ve6X6xmWEn9fe8FfALhLb+Vg57JpndVLzXNC89tdeU4ufVtTV7n6RjsNP/ABI+Ln3OCHCC38rBXOymZ3a3luaPZrZ/tMtxlHrWK4/k/aMTYq5K4+MObcyHNrPzmEuRtoqj8HgmJpmYmNkx0TEvRyuHMTTOqeV/B8Oi9Et1so7Ja4IVrjOc3Ns72++C/QWB6q33YSryJQo+uHdW12qjhqd7JeczsnfCmNLHQNHW092ti6bshgPTluAu5pj8PhLMbbt6uKKf2bZ635XblNqiblXJDoZfgbuZYu1g7EelcqimO327I5Z+p0fl2BtZZgMPhLMbLVmiKKfREKzu3Krtc3KuWX9A8BgrWW4S1g7EaqbdMUx2Rvnll6H5ugrGsXPvEWjN+aKuTiMT+gt7OuNvXPdG3v2OrluH8oxEa+SOOVccP878y5HdmidVy76FPbyz2U6+P6dT71e51470XwtdVXKvWI5i559tPVPfGyX1zKx4jE1RHJPHHb/F+nAPOPPORWa65112/Qq208k9tOqdutZHMWG8WdZZRnOU4vBXPi37c0bfNPyT3Tsl+9i7Ni7Tcj2S4+cZdbzfL72AuclymY2T7J7J1T2OcMRYrwt+5Zu08i5bqmiqmfkmJ2TCzKaorpiqnkl/Pu/YuYa7XYuxqqpmYmPomJ1S/N9n4AAAAAAAAAAAAAAAAAAAAAAAAAAAAAAAAAAAAAAAAAAAAAAAAAAAAAAAAAAOjNFd2Mn7HZ4IVpi+cXPene39wZ6DwPVW+5SlHlSVRdcW61jtdHBW7+S85nZO+FK6WegrXW092tjKbMjNI1NZxzWNxmW11fm3aeetxPzo6J9sTH/1RnO7Ouim9Hs4p/n+eVoPRHm3isTfyuueKuPDp2xxT8YmJ+y1hEGoAAGG61N88V6lvhhPcp5pT272L9JnrLe92juwqLsKsXHVRvjZ+iue5xc35rO2FsaMPWO37te5t6CNlgPJXk+Au36r1eBw1d6qdtVyq1TNU+mdj9ov3YjwYqnVtlyq8py65dm/Xh6Jrnlmaadc7Z1a372sNas/2dqi36tMQ/OaqquWXtt4ezZ+boinZEQ/R9XoAUrW7ul/iKPdLuZNzrslT2lT1f8A+5TuqYonLHoACQ0e8v5b2m1xw8+J+Yr2Tud3IelsJ1lHeh0grJ/QYBkOufy5gezfelMsk+Zr2/gyppd6Uw3V/vSz1I1DgAL1qe3pvdlr4qHAzrm0bY3SujRP09c6qrvUNmQlrsBzvpjvVm3arnFKyMFza3shgjhb0/jusr3yh3tRMAAABu+rHcjLvTc+0qV/mvPK+zdDbOjj1Xwv2/2la0uUsoAAAABzVm3lXG/TV8UrPs/N07IfzwzTn+I9+rvS8j9nLdF6JbrZR2S1wQrXGc5ubZ3t98F+gsD1VvuwlXkShR9cO6trtVHDU72S85nZO+FMaWOgaOtp7tbF03ZDAaLqeyLwjMMRmtyn8zDxzVqZ+fMdM90cSNZ1iPBoixHt452f+9y/tE+SeUYu7m92PRt+jT70xxz2U8X2mtoe1KAxPWrnvjXSKcLbq22MFHN9HVNc/Gn3R3JzlGH8TY8OeWrj7PYx3pNzvznnPklufQsR4P2p46p7OKn7L1aoc68Dzu9l9dWy3i6NtO359PT9cbfZD8s5seHZi7HLTul0dFOceSZnXl1yfRvRxe9Trn76dfwhsSFtZgMU1r5L4t0k8Kop2WcbTznR1cuOir+U96c5Rf8AG4fwJ5aeLs9jHmk/J/N2deV0Rqovx4X2o4qvwq+0pTuKfAAAAAAAAAAAAAAAAAAAAAAAAAAAAAAAAAAAAAAAAAAAAAAAAAAAAAAAAAAdGaK7sZP2OzwQrTF84ue9O9v7gz0Hgeqt9ylKPKkqi64t1rHa6OCt38l5zOyd8KV0s9BWutp7tbGU2ZGSWjmazkeeYLHRt2WrkTVs+WmeiqPZMvNibPj7NVv6Y/8ASQcH8znJs1w+PjkoqjX7s8VUdtMy6NpqiumKqZiqmY2xMfKrOY1cUv6A01RXTFVM64l/R9gGG61N88V6lvhhPcp5pT272L9JnrLe92juwqLsKsXHVRvjZ+iue5xc35rO2FsaMPWO37te5t6CNlgAAAAKVrd3S/xFHul3Mm512Sp7Sp6v/wDcp3VMUTlj0ABIaPeX8t7Ta44efE/MV7J3O7kPS2E6yjvQ6QVk/oMAyHXP5cwPZvvSmWSfM17fwZU0u9KYbq/3pZ6kahwAF31R3rdjSe9VduU26fBa421zER8alws5pmrDxERr443SuPRXet2c8uVXaopjxVXLOr9ahsPjLCf81Z/zI/FC/FXP6s/BrHzhg/8AnU/4o/M8ZYT/AJqz/mR+J4q5/Vn4HnDB/wDOp/xR+bn7S6um5pRmtVMxVTOJuTExO2J/OlYuDjVhrcT9EMK8Kqqa89xtVM64m5XvlEPYioAAADd9WO5GXem59pUr/NeeV9m6G2dHHqvhft/tK1pcpZQAAAADmrNvKuN+mr4pWfZ+bp2Q/nhmnP8AEe/V3peR+zlui9Et1so7Ja4IVrjOc3Ns72++C/QWB6q33YSryJQo+uHdW12qjhqd7JeczsnfCmNLHQNHW092ti6bshv7TTNdUU0xNVUzsiI+V8TOrjl9qaZrqimmNcy6I0TySNHsgwmC2RzlNPKuzHy1z0z+HcrfGX/Kb9Vz2ezY3vwXyanIcosYHV6URrq+uqeOr4TxR9UQl3jSpGaS5zTkGR4vHVbOVbo/Miflrnopj2zD1YWxOIvU249u72o5wizejI8rv4+rlojij6ap4qY+Mxr+rW51u3Kr1yu5XVNVdczVVVPXMz1ysqIimNUMB3Lld6uq5cnXVM65n6Znlfrl+NuZbjsPi7M7Ltm5Tcp9MTtfS5RF2iaKuSXqwOMu5firWLsz6VuqKo2xOt0jl+Nt5lgcPi7M7bV63Fyn0TG1WVy3NquaKuWH9BsBjLWYYW1jLM+jcpiqNkxr/wDb935veqWs/JfG2i927RTtvYSefp9WPjR7OnudjKr/AInERE8lXF+SrNI+T+dMiru0Rrrs+nGyPlR/h4+yGGJ6xeAAAAAAAAAAAAAAAAAAAAAAAAAAAAAAAAAAAAAAAAAAAAAAAAAAAAAAAAAA6M0V3YyfsdnghWmL5xc96d7f3BnoPA9Vb7lKUeVJVF1xbrWO10cFbv5Lzmdk74UrpZ6CtdbT3a2MpsyMA3nVxnHjfRTCzVO27h//AE9f/T1f/nYr/M7PicTVq5J4/j/FtzR/mvnXILM1TrrtehP2eT/x1dqzuUscBhutTfPFepb4YT3KeaU9u9i/SZ6y3vdo7sKi7CrFn1c5nhcp0ntYnGXqbFim3XE11dW2Y6HKzO1Xew80W41zrhY/ADMcJleeUYnG3Iooimrjn644mo3tZujln/iHOT5qLNc/yRSnK8XP6n3x+bSV3SNwZtf/AGfCn6qK/wDTq+94b2t7IrfxacXd9S1H85h6IybEzy6o7f4ONd0q8H7fyYuVbKY/GqHiu658uj+ywGKr9eaaf5y/eMju+2uPvci7pey2PmsNXO2aY3TLx3ddcf7vKJn9teI/lyX7RkX03Pu/i5N3TFH/AAsD8bn4eB+LyXddGOn+zy7D0+tXVV+D9oyO37a5cq5pfx8/N4WiNs1T+TyXNcedV/Fw+Coj9luqfvP2jJcPHLM/d+TmXNLWeVfItWo+zV+NaGz/AE8zXSTB+C4yq1zPKivk27ezpj9ve9uHy+xha/Dt69aJZ5w2zfhBhvJMbNPga4nVFOrjj6+P6VddJAQAH1RXVbrproqmiumdsVUzsmJ874mImNUvvRXVbqiuidUxxxMcsS9dWdZhX8bH4mr03qp/m/GLFqOSiPhDp1ZvmVfysTXP26vzfjVj8TX8bEXavTXL7xbojkiHmqxuKr+Vdqn7U/m/KququdtVU1T+2dr7xERyPLVXVXOuqdb5fL6AAAAAAAAAAAPXh81x2EtxRYxmIs0R1U27tVMR3RL8arNuuddVMT2OnYzTH4WiLdi/XRTHsiqqI+ES9NGlGc2/i5tjo9GIr/F+c4TDzy24+EOhRwkzuj5ONux/3K/zftRppntvqzbFT61yZ9785wOGn/hx8Hso4YcIKOTG3O2qZ3vRb1haRW+rNLs+tTTPvh+c5dhJ/wCHH3vdRw84S2+TGVdsUzvh6Les/SSjrx8V+tYt/wCl+c5VhJ/U++fze+jSRwno5cTE7aKPwph6betrP6OuvD3PWtfhMPynJ8LP0/F0belLhFR8qaKttP5TD1W9cmcU/HwuCr9FFcTxPxnJMP7Kp+78nSt6W86p+XZtT2VR++o+JvzisTdvVRETcrmuYj5Ns7Xfpp8CmKfoUxiL04m9XfqjVNUzPxnW/J9nnapkGtjLMtyjBYO/hMVyrFmi1NVuKZiZiIjb0zCJ4jKL127VcpqjjmZ9v5NMZHpQyvL8uw+CxFm5rt0U0zMRTMT4MRGvjqhM2dbWQXPjVYm169r8Jl4ZyfFRyap7UttaUuDtz5U107afymUBrH0xyjSDR23YwOL569GIprmibdVMxEU1dPTH7YdHLMFfw1+artOqNX0x9SD6QOFuTZ7k9OHy+/4VcV0zq8GqOKIqj2xEe2PazFKWclt1ZZNRmuk1q5d5PM4SOemKp66o+LHt6e5x80vzZw8xTy1cX5rR0c5RRmeeUXb2rwLPp8ftmPkx8ePsbmgTaQDKtcefc7iMNlNur823+mvbPnT0Ux3RtnvhLclw+qmq/Pt4o/FmPS1nfjL1nJ7U8VPp17Z4qY7I1z2wzRKGeAGxaoc78MyW9l9dW25hK9tG35lXT9U7fbCF5zY8C9F2OSrfDWWinOPK8suZdcn0rM8Xu1cf3Va/jC/I8vF/LlFN2iqiuIqoqiYmJ6ph8xMxOuH0ropuUzRXGuJ4pj6nOWkeUVZFnmMwNW3ZauTFEz8tM9NM+yYWVhr0YizTcj2/zLAHCDKqskzS/gKuSiri+umeOme2JhGvUjwAAAAAAAAAAAAAAAAAAAAAAAAAAAAAAAAAAAAAAAAAAAAAAAAAAAAAAAADorRq9bsaK5RVcrpt0+B2emqdkfEhW2KpmrE3IiP1p3t88HbtuzkOBquVRTHirfLOr9SDE6W5Lg9vO5phImP1YuxVPsh8U4PEV/Jtz8H2xPCjI8J89jLcT9HhRM/CJmVC1maYZTnuSWsJgcV4RepxFNyYiiqIiIpqjrmI88JDleCv4e9Nd2nVGr6vqUfpF4V5PnWV0YPL73h1xciqfRqiNUU1RyzER7Y5GZJSzoAnNHdMcx0Xt4ijA1W4pvTE1c5Tytkxt6Y9rwYnBWsXMTc9iZZBwszPg3Rdt4CY1XNWvXGvVMa+Tj+vj7HrxGsrSLEbduYTbjzW7VFP17Nr8acrwlP6n3y6t/SHwmv8uK8GPqpoj7/B1/ejr+lmdYnbzma4yYn5IvVRHsiXqpweHp5LcfBH7/CjPMR85jbk/bqiPhExCMvXrmIuTXdrquVz11Vztme96YpimNVMakdu3rl+ubl2qaqp9szrn4y+H2fkAAAAAAAAAAAAAAAAAAAAAAAAAAAAAAAAAAAAAAAAA9FjMcXhdnM4q9a2fMuTT7n51W6K/lUxPY99nH4zDfMXqqdlUxulI2NMs8w3xM2xc/sruzV79rzVYLDVctuPg71jhbn+H+RjbnbVNW/Wjcdjr+ZYu5icTcm9fuTtrrq65em3bptUxRRGqIR/G43EZhiK8Viq5quVcczPtfg/R4gFg0H0ip0Zz+1irvK8Gqpm3eimNs8mfwmIlzsfhvKrE0Ry8sJzwMz+ng5m1GLu6/FzE016uXVP5TES1nDaytHcTsjxhzVXmu266fr2bEQqyvF0/qa+2GosPpD4NYji8p8Gf/6pqj79Wr70thtJMpxmzmMywlyZ/VpvU7fZteOvC36PlUTHZKT4fhDk+L+YxduqfoiunX8NetnuuPJ4qnBZtaiKqav0Fyqnq+WaZ4o7oSPJb3yrFW2PxUTpaymJnD5xZ44n0Kpjtmme9HZDMkpZzAAAAAAAAAAAAAAAAAAAAAAAAAAAAAAAAAAAAAAAAAAAAAAAAAAAAAAAAAfVVdVezlVTVsjZG2duyHxERHI+9VdVerwp16ny+X0AAAAAAAAAAAAAAAAAAAAAAAAAAAAAAAAAAAAAAAAAAAAAAAAAAAAAAAAAfUV1RRNMVTFM9dO3ol8ao1633iuqKZoieKfY+Xy+gAAAAAAAAAAAAAAAAAAAAAAAAAAAAAAAAAAAAAAAAAAAAAAAAAAAAAAAAAAAAAAAAAAAAAAAAAAAAAAAAAAAAAAAAAAAAAAAAAAAAAAAAAAAAAAAAAAAAAAAAAAAAAAAAAAAAAAAAAAAAAAAAAAAAAAAAAAAAAAAAAAAAAAAAAAAAAAAAAAAAAAAAAAAAAAAAAAAAAAAAAAAAAAAAAAAAAAAAAAAAAAAAAAAAAAAAAAAAAAAAAAAAAAAAAAAAAAAAAAAAAAAAAAAAAAAAAAAAAAAAAAAAAAAAAAAAAAAAAAAAAAAAAAAAAAAAAAAAAAAAAAAAAAAAAAAAAAAAAAAAAAAAAAAAAAAAAAAAAAAAAAAAAAAAAAAAAAAAAAAAAAAAAAAAAAAAAAAAAAAAAAAAAAAAAAAAAAAAAAAAAAAAAAAAAAAAAAAAAAAAAAAAAAAAAAAAAAAAAAAAAAAAAAAAAAAAAAAAAAAAAAAAAAAAAAAAAAAAAAAAAAAAAAAAAAAAAAAAAAAAAAAAAAAAAAAAAAAAAAAAAAAAAAAAAAAAAAAAAAAAAAAAAAAAAAAAAAAAAAAAAAAAAAAAAAAAAAAAAAAAAAAAAAAAAAAAAAAAAAAAAAAAAAAAAAAAAAAAAAAAAAAAAAAAAAAAAAAAAAAAAAAAAAAAAAAAAAAAAAAAAAAAAAAAAAAAAAAAAAAAAAAAAAAAAAAAAAAAAAAAAAAAAAAAAAAAAAAAAAAAAAAAAAAAAAAAAAAAAAAAAAAAAAAAAAAAAAAAAAAAAAAAAAAAAAAAAAAAAAAAAAAAAAAAAAAAAAAAAAAAAAAAAAAAAAAAAAAAAAAAAAAAAAAAAAAAAAAAAAAAAAAAAAAAAAAAAAAAAAAAAAAAAAAAAAAAAAAAAAAAAAAAAAAAAAAAAAAAAAAAAAAAAAAAAAAAAAAAAAAAAAAAAAAAAAAAAAAAAAAAAAAAAAAAAAAAAAAAAAAAAAAAAAAAAAAAAAAAAAAAAAAAAAAAAAAAAAAAAAAAAAAAAAAAAAAAAAAAAAAAAAAAAAAAAAAAAAAAAAAAAAAAAAAAAAAAAAAAAAAAAAAAAAAAAAAAAAAAAAAAAAAAAAAAAAAAAAAAAAAAAAAAAAAAAAAAAAAAAAAAAAAAAAAAAAAAAAAAAAAAAAAAAAAAAAAAAAAAAAAAAAAAAAAAAAAAAAAAAAAAAAAAAAAAAAAAAAAAAAAAAAAAAAAAAAAAAAAAAAAAAAAAAAAAAAAAAAAAAAAAAAAAAAAAAAAAAAAAAAAAAAAAAAAAAAAAAAAAAAAAAAAAAAAAAAAAAAAAAAAAAAAAAAAAAAAAAAAAAAAAAAAAAAAAAAAAAAAAAAAAAAAAAAAAAAAAAAAAAAAAAAAAAAAAAAAAAAAAAAAAAAAAAAAAAAAAAAAAAAAAAAAAAAAAAAAAAAAAAAAAAAAAAAAAAAAAAAAAAAAAAAAAAAAAAAAAAAAAAAAAAAAAAAAAAAAAAAAAAAAAAAAAAAAAAAAAAAAAAAAAAAAAAAAAAAAAAAAAAAAAAAAAAAAAAAAAAAAAAAAAAAAAAAAAAAAAAAAAAAAAAAAAAAAAAAAAAAAAAAAAAAAAAAAAAAAAAAAAAAAAAAAAAAAAAAAAAAAAAAAAAAAAAAAAAAAAAAAAAAAAAAAAAAAAAAAAAAAAAAAAAAAAAAAAAAAAAAAAAAAAAAAAAAAAAAAAAAAAAAAAAAAAAAAAAAAAAAAAAAAAAAAAAAAAAAAAAAAAAAAAAAAAAAAAAAAAAAAAAAAAAAAAAAAAAAAAAAAAAAAAAAAAAAAAAAAAAAAAAAAAAAAAAAAAAAAAAAAAAAAAAAAAAAAAAAAAAAAAAAAAAAAAAAAAAAAAAAAAAAAAAAAAAAAAAAAAAAAAAAAAAAAAAAAAAAAAAAAAAAAAAAAAAAAAAAAAAAAAAAAAAAAAAAAAAAAAAAAAAAAAAAAAAAAAAAAAAAAAAAAAAAAAAAAAAAAAAAAAAAAAAAAAAAAAAAAAAAAAAAAAAAAAAAAAAAAAAAAAAAAAAAAAAAAAAAAAAAAAAAAAAAAAAAAAAAAAAAAAAAAAAAAAAAAAAAAAAAAAAAAAAAAAAAAAAAAAAAAAAAAAAAAAAAAAAAAAAAAAAAAAAAAAAAAAAAAAAAAAAAAAAAAAAAAAAAAAAAAAAAAAAAAAAAAAAAAAAAAAAAAAAAAAAAAAAAAAAAAAAAAAAAAAAAAAAAAAAAAAAAAAAAAAAAAAAAAAAAAAAAAAAAAAAAAAAAAAAAAAAAAAAAAAAAAAAAAAAAAAAAAAAAAAAAAAAAAAAAAAAAAAAAAAAAAAAAAAAAAAAAAAAAAAAAAAAAAAAAAAAAAAAAAAAAAAAAAAAAAAAAAAAAAAAAAAAAAAAAAAAAAAAAAAAAAAAAAAAAAAAAAAAAAAAAAAAAAAAAAAAAAAAAAAAAAAAAAAAAAAAAAAAAAAAAAAAAAAAAAAAAAAAAAAAAAAAAAAAAAAAAAAAAAAAAAAAAAAAAAAAAAAAAAAAAAAAAAAAAAAAAAAAAAAAAAAAAAAAAAAAAAAAAAAAAAAAAAAAAAAAAAAAAAAAAAAAAAAAAAAAAAAAAAAAAAAAAAAAAAAAAAAAAAAAAAAAAAAAAAAAAAAAAAAAAAAAAAAAAAAAAAAAAAAAAAAAAAAAAAAAAAAAAAAAAAAAAAAAAAAAAAAAAAAAAAAAAAAAAAAAAAAAAAAAAAAAAAAAAAAAAAAAAAAAAAAAAAAAAAAAAAAAAAAAAAAAAAAAAAAAAAAAAAAAAAAAAAAAAAAAAAAAAAAAAAAAAAAAAAAAAAAAAAAAAAAAAAAAAAAAAAAAAAAAAAAAAAAAAAAAAAAAAAAAAAAAAAAAAAAAAAAAAAAAAAAAAAAAAAAAAAAAAAAAAAAAAAAAAAAAAAAAAAAAAAAAAAAAAAAAAAAAAAAAAAAAAAAAAAAAAAAAAAAAAAAAAAAAAAAAD/2Q==)\n",
        "</center>"
      ],
      "metadata": {
        "id": "RZ6N7y3V7lw7"
      }
    },
    {
      "cell_type": "markdown",
      "source": [
        "# Introduction"
      ],
      "metadata": {
        "id": "9vJGrzzfbEz-"
      }
    },
    {
      "cell_type": "markdown",
      "source": [
        ":First of all, what is Netflix? To those who don't know Netflix is a subscription based streaming service that allows its members to watch all sorts of movies and TV shows on the internet. According to this article on [BackLinko](https://backlinko.com/netflix-users), as of April 2024, Netflix has a total of 260.28 million subscribers.\n",
        "\n",
        "Netflix has multiple subscription plans, each tier of subscription grants members more services such as no ads, amount of devices they can have their account on or HD access. From Netflix's own [website](https://help.netflix.com/en/node/24926), the tiers of subscription goes as follows: Basic (known as standard with ads), standard, and premium.\n",
        "\n",
        "Through Kaggle, a database filled with datasets, I obtained a dataset titled, [Netflix Userbase Dataset](https://www.kaggle.com/datasets/arnavsmayan/netflix-userbase-dataset/data). The dataset consists of features such as subscription type, user age, last payment, etc."
      ],
      "metadata": {
        "id": "dx74PFBRc4S5"
      }
    },
    {
      "cell_type": "markdown",
      "source": [
        "### Reasoning For Dataset and Goals"
      ],
      "metadata": {
        "id": "AbRtYcD_CLHa"
      }
    },
    {
      "cell_type": "markdown",
      "source": [
        "A question that you may ask is, why choose this dataset? What makes this dataset stand out from any other dataset that involves Netflix?\n",
        "\n",
        "Well, one of the reasons why I chose this dataset over any other dataset that deals with Netflix's user base is because it has a fairly large amount of data that can be used for analysis. I believe that is contains enough data for use to find correlations within my variables. With this dataset, I have a lot of different opportunities to analyze it.\n",
        "\n",
        "With that being said, for this specific data anaylze, I am really interested in the demographic of the Netflix user base. Out of all the features of the dataset, I want to analyze the relationship between the demographic of Netflix users and their likelihood in choosing a certain subscription plan. I want to know if variables such as age is more likely to stick with a Netflix subscription plan compared to other variables.\n",
        "\n",
        "The main question I want to delve into throughout this data analysis is,\n",
        "\n",
        "***Which demographic is more likely to opt into Netflix's more expensive monthly subscription system?***\n",
        "\n",
        "By the end of this data analysis, I hope to answer this main question and to make a report of all the findings.\n",
        "\n"
      ],
      "metadata": {
        "id": "HLrcM1gRCbyd"
      }
    },
    {
      "cell_type": "markdown",
      "source": [
        "# Section 1: Data Curation\n",
        "Before I start with the data analysis, I am going to clean out the dataset. The reason why I do this is to first simplify the dataset. Irrelevant data will make the dataset feel cluttered and may cause confusion. Thus, to keep things simple unnecessary data is removed. Removing null data also accomplishes the same goal, but it also helps with preventing the data analysis results from being skewed."
      ],
      "metadata": {
        "id": "5oHXnM-XKYV6"
      }
    },
    {
      "cell_type": "code",
      "source": [
        "import pandas as pd\n",
        "import matplotlib.pyplot as plt\n",
        "import numpy as np\n",
        "import math\n",
        "from scipy.stats import chi2_contingency\n",
        "from scipy.stats.contingency import crosstab\n",
        "import seaborn as sns\n",
        "from datetime import datetime\n",
        "import plotly.express as px\n",
        "from sklearn.model_selection import train_test_split\n",
        "from sklearn.preprocessing import StandardScaler\n",
        "from sklearn.neighbors import KNeighborsClassifier\n",
        "from sklearn.linear_model import LogisticRegression\n",
        "from sklearn.ensemble import RandomForestClassifier\n",
        "from sklearn.metrics import accuracy_score, classification_report, confusion_matrix\n",
        "from sklearn import metrics"
      ],
      "metadata": {
        "id": "DVIJaCFVKHcV"
      },
      "execution_count": null,
      "outputs": []
    },
    {
      "cell_type": "markdown",
      "source": [
        "Setting up the dataframe to contain the Netflix Userbase dataset.\n",
        "\n"
      ],
      "metadata": {
        "id": "n1Jh0RA3MHIV"
      }
    },
    {
      "cell_type": "code",
      "source": [
        "netflix_df = pd.read_csv(\"Netflix Userbase.csv\")\n",
        "\n",
        "# Dropping empty data\n",
        "netflix_df = netflix_df.dropna()"
      ],
      "metadata": {
        "id": "zRIYV5STNYDk"
      },
      "execution_count": null,
      "outputs": []
    },
    {
      "cell_type": "markdown",
      "source": [
        "To keep everything organized and standardized, the dates within the 'Join Date'\n",
        "\n",
        "*   List item\n",
        "*   List item\n",
        "\n",
        "Last Payment Date' columns are joined first to ISO 8601."
      ],
      "metadata": {
        "id": "9trwP-0ONzeG"
      }
    },
    {
      "cell_type": "code",
      "source": [
        "#need to specifiy format because default format doesn't fit\n",
        "netflix_df['Join Date'] = pd.to_datetime(netflix_df['Join Date'],format=\"%d-%m-%y\",exact=True)\n",
        "netflix_df['Last Payment Date'] = pd.to_datetime(netflix_df['Last Payment Date'],format=\"%d-%m-%y\",exact=True)"
      ],
      "metadata": {
        "id": "VEGEMl61dArZ"
      },
      "execution_count": null,
      "outputs": []
    },
    {
      "cell_type": "markdown",
      "source": [
        "Moving on, the irrelevant columns were dropped as they aren't really significant to the analysis."
      ],
      "metadata": {
        "id": "wDE4Fh_dikUT"
      }
    },
    {
      "cell_type": "code",
      "source": [
        "# Dropping irrelevant columns\n",
        "netflix_df = netflix_df.drop(columns=['Plan Duration'])"
      ],
      "metadata": {
        "id": "UlPo1doeiD3D"
      },
      "execution_count": null,
      "outputs": []
    },
    {
      "cell_type": "markdown",
      "source": [
        "Since I want to know which age group is willing to stay with their monthly description, I created a new column called subscription length. This column will take the difference between the user's last payment and the start of the user's subscription. This will tell us how long the user has been with Netflix's subscription system."
      ],
      "metadata": {
        "id": "-rwXYA3kjRpK"
      }
    },
    {
      "cell_type": "code",
      "source": [
        "# Calculating user subscription length\n",
        "days = (netflix_df['Last Payment Date'] - netflix_df['Join Date']).dt.days\n",
        "netflix_df['Subscription Length (in days)'] = days"
      ],
      "metadata": {
        "id": "jnBUx1vRiGn4"
      },
      "execution_count": null,
      "outputs": []
    },
    {
      "cell_type": "markdown",
      "source": [
        "I also made another column called 'Total User Revenue', which represents the total revenue from users based on their subscription type and length."
      ],
      "metadata": {
        "id": "T24ArRibarA8"
      }
    },
    {
      "cell_type": "code",
      "source": [
        "#calculate total revenue for each individuals based on Subscription Length\n",
        "revenue=(round(netflix_df['Monthly Revenue'] * netflix_df['Subscription Length (in days)']/30, 2))\n",
        "netflix_df['Total User Revenue']=revenue\n",
        "\n",
        "#find last payment date and first join date\n",
        "last_payment_dates= list(set(netflix_df['Last Payment Date']))\n",
        "last_payment_dates.sort()\n",
        "last_payment_date= last_payment_dates[-1]\n",
        "\n",
        "Join_dates=list(set(netflix_df['Join Date']))\n",
        "Join_dates.sort()\n",
        "first_join_date= Join_dates[0]"
      ],
      "metadata": {
        "id": "jk5coxPbbMa3"
      },
      "execution_count": null,
      "outputs": []
    },
    {
      "cell_type": "markdown",
      "source": [
        "I also want to put each user in an age group, so I made another new column for that. The first age group starts at 25 years old and the final age group ends with 55 years old. Each group contains ages within 5 years. Here are all the possible age groups:\n",
        "*   Ages 25-29\n",
        "*   Ages 30-34\n",
        "*   Ages 35-39\n",
        "*   Ages 40-44\n",
        "*   Ages 45-49\n",
        "*   Ages 50-54\n",
        "\n",
        "\n"
      ],
      "metadata": {
        "id": "Mrl60EnMb8Pm"
      }
    },
    {
      "cell_type": "code",
      "source": [
        "age_groups_str = [\n",
        "    \"25-29\",\n",
        "    \"30-34\",\n",
        "    \"35-39\",\n",
        "    \"40-44\",\n",
        "    \"45-49\",\n",
        "    \"50-54\"\n",
        "  ]\n",
        "bins = [25, 30, 35, 40, 45, 50, 55]\n",
        "netflix_df['Age Group'] = pd.cut(netflix_df['Age'], bins=bins, labels=age_groups_str, right=False)"
      ],
      "metadata": {
        "id": "7yLQN06Xdvz9"
      },
      "execution_count": null,
      "outputs": []
    },
    {
      "cell_type": "markdown",
      "source": [
        "Converting String data into numerical data using one hot encoding"
      ],
      "metadata": {
        "id": "vrjV25blb-a_"
      }
    },
    {
      "cell_type": "code",
      "source": [
        "# For Gender\n",
        "netflix_df_dummy = pd.get_dummies(netflix_df['Gender'])\n",
        "netflix_df = pd.concat([netflix_df, netflix_df_dummy], axis=1).reindex(netflix_df.index)\n",
        "netflix_df.drop('Gender', axis=1, inplace=True)\n",
        "\n",
        "# For Country\n",
        "netflix_df_dummy = pd.get_dummies(netflix_df['Country'])\n",
        "netflix_df = pd.concat([netflix_df, netflix_df_dummy], axis=1).reindex(netflix_df.index)\n",
        "netflix_df.drop('Country', axis=1, inplace=True)\n",
        "\n",
        "# For device\n",
        "netflix_df_dummy = pd.get_dummies(netflix_df['Device'])\n",
        "netflix_df = pd.concat([netflix_df, netflix_df_dummy], axis=1).reindex(netflix_df.index)\n",
        "netflix_df.drop('Device', axis=1, inplace=True)"
      ],
      "metadata": {
        "id": "fhpj7u_IkCh0"
      },
      "execution_count": null,
      "outputs": []
    },
    {
      "cell_type": "markdown",
      "source": [
        "This is the final dataset after processing:\n",
        "\n",
        "\n"
      ],
      "metadata": {
        "id": "IK4zyNIOj-p7"
      }
    },
    {
      "cell_type": "code",
      "source": [
        "netflix_df"
      ],
      "metadata": {
        "colab": {
          "base_uri": "https://localhost:8080/",
          "height": 478
        },
        "id": "6SdVFNgxcvpZ",
        "outputId": "eb9c7e61-130c-4f2c-be69-7ea841daee4b"
      },
      "execution_count": null,
      "outputs": [
        {
          "output_type": "execute_result",
          "data": {
            "text/plain": [
              "      User ID Subscription Type  Monthly Revenue  Join Date Last Payment Date  \\\n",
              "0           1             Basic               10 2022-01-15        2023-06-10   \n",
              "1           2           Premium               15 2021-09-05        2023-06-22   \n",
              "2           3          Standard               12 2023-02-28        2023-06-27   \n",
              "3           4          Standard               12 2022-07-10        2023-06-26   \n",
              "4           5             Basic               10 2023-05-01        2023-06-28   \n",
              "...       ...               ...              ...        ...               ...   \n",
              "2495     2496           Premium               14 2022-07-25        2023-07-12   \n",
              "2496     2497             Basic               15 2022-08-04        2023-07-14   \n",
              "2497     2498          Standard               12 2022-08-09        2023-07-15   \n",
              "2498     2499          Standard               13 2022-08-12        2023-07-12   \n",
              "2499     2500             Basic               15 2022-08-13        2023-07-12   \n",
              "\n",
              "      Age  Subscription Length (in days)  Total User Revenue Age Group  \\\n",
              "0      28                            511              170.33     25-29   \n",
              "1      35                            655              327.50     35-39   \n",
              "2      42                            119               47.60     40-44   \n",
              "3      51                            351              140.40     50-54   \n",
              "4      33                             58               19.33     30-34   \n",
              "...   ...                            ...                 ...       ...   \n",
              "2495   28                            352              164.27     25-29   \n",
              "2496   33                            344              172.00     30-34   \n",
              "2497   38                            340              136.00     35-39   \n",
              "2498   48                            334              144.73     45-49   \n",
              "2499   35                            333              166.50     35-39   \n",
              "\n",
              "      Female  ...  Germany  Italy  Mexico  Spain  United Kingdom  \\\n",
              "0      False  ...    False  False   False  False           False   \n",
              "1       True  ...    False  False   False  False           False   \n",
              "2      False  ...    False  False   False  False            True   \n",
              "3       True  ...    False  False   False  False           False   \n",
              "4      False  ...     True  False   False  False           False   \n",
              "...      ...  ...      ...    ...     ...    ...             ...   \n",
              "2495    True  ...    False  False   False   True           False   \n",
              "2496    True  ...    False  False   False   True           False   \n",
              "2497   False  ...    False  False   False  False           False   \n",
              "2498    True  ...    False  False   False  False           False   \n",
              "2499    True  ...    False  False   False  False           False   \n",
              "\n",
              "      United States  Laptop  Smart TV  Smartphone  Tablet  \n",
              "0              True   False     False        True   False  \n",
              "1             False   False     False       False    True  \n",
              "2             False   False      True       False   False  \n",
              "3             False    True     False       False   False  \n",
              "4             False   False     False        True   False  \n",
              "...             ...     ...       ...         ...     ...  \n",
              "2495          False   False      True       False   False  \n",
              "2496          False   False      True       False   False  \n",
              "2497           True    True     False       False   False  \n",
              "2498          False   False     False       False    True  \n",
              "2499           True   False      True       False   False  \n",
              "\n",
              "[2500 rows x 25 columns]"
            ],
            "text/html": [
              "\n",
              "  <div id=\"df-ca038821-e1c7-40ac-b401-6d4a2e468133\" class=\"colab-df-container\">\n",
              "    <div>\n",
              "<style scoped>\n",
              "    .dataframe tbody tr th:only-of-type {\n",
              "        vertical-align: middle;\n",
              "    }\n",
              "\n",
              "    .dataframe tbody tr th {\n",
              "        vertical-align: top;\n",
              "    }\n",
              "\n",
              "    .dataframe thead th {\n",
              "        text-align: right;\n",
              "    }\n",
              "</style>\n",
              "<table border=\"1\" class=\"dataframe\">\n",
              "  <thead>\n",
              "    <tr style=\"text-align: right;\">\n",
              "      <th></th>\n",
              "      <th>User ID</th>\n",
              "      <th>Subscription Type</th>\n",
              "      <th>Monthly Revenue</th>\n",
              "      <th>Join Date</th>\n",
              "      <th>Last Payment Date</th>\n",
              "      <th>Age</th>\n",
              "      <th>Subscription Length (in days)</th>\n",
              "      <th>Total User Revenue</th>\n",
              "      <th>Age Group</th>\n",
              "      <th>Female</th>\n",
              "      <th>...</th>\n",
              "      <th>Germany</th>\n",
              "      <th>Italy</th>\n",
              "      <th>Mexico</th>\n",
              "      <th>Spain</th>\n",
              "      <th>United Kingdom</th>\n",
              "      <th>United States</th>\n",
              "      <th>Laptop</th>\n",
              "      <th>Smart TV</th>\n",
              "      <th>Smartphone</th>\n",
              "      <th>Tablet</th>\n",
              "    </tr>\n",
              "  </thead>\n",
              "  <tbody>\n",
              "    <tr>\n",
              "      <th>0</th>\n",
              "      <td>1</td>\n",
              "      <td>Basic</td>\n",
              "      <td>10</td>\n",
              "      <td>2022-01-15</td>\n",
              "      <td>2023-06-10</td>\n",
              "      <td>28</td>\n",
              "      <td>511</td>\n",
              "      <td>170.33</td>\n",
              "      <td>25-29</td>\n",
              "      <td>False</td>\n",
              "      <td>...</td>\n",
              "      <td>False</td>\n",
              "      <td>False</td>\n",
              "      <td>False</td>\n",
              "      <td>False</td>\n",
              "      <td>False</td>\n",
              "      <td>True</td>\n",
              "      <td>False</td>\n",
              "      <td>False</td>\n",
              "      <td>True</td>\n",
              "      <td>False</td>\n",
              "    </tr>\n",
              "    <tr>\n",
              "      <th>1</th>\n",
              "      <td>2</td>\n",
              "      <td>Premium</td>\n",
              "      <td>15</td>\n",
              "      <td>2021-09-05</td>\n",
              "      <td>2023-06-22</td>\n",
              "      <td>35</td>\n",
              "      <td>655</td>\n",
              "      <td>327.50</td>\n",
              "      <td>35-39</td>\n",
              "      <td>True</td>\n",
              "      <td>...</td>\n",
              "      <td>False</td>\n",
              "      <td>False</td>\n",
              "      <td>False</td>\n",
              "      <td>False</td>\n",
              "      <td>False</td>\n",
              "      <td>False</td>\n",
              "      <td>False</td>\n",
              "      <td>False</td>\n",
              "      <td>False</td>\n",
              "      <td>True</td>\n",
              "    </tr>\n",
              "    <tr>\n",
              "      <th>2</th>\n",
              "      <td>3</td>\n",
              "      <td>Standard</td>\n",
              "      <td>12</td>\n",
              "      <td>2023-02-28</td>\n",
              "      <td>2023-06-27</td>\n",
              "      <td>42</td>\n",
              "      <td>119</td>\n",
              "      <td>47.60</td>\n",
              "      <td>40-44</td>\n",
              "      <td>False</td>\n",
              "      <td>...</td>\n",
              "      <td>False</td>\n",
              "      <td>False</td>\n",
              "      <td>False</td>\n",
              "      <td>False</td>\n",
              "      <td>True</td>\n",
              "      <td>False</td>\n",
              "      <td>False</td>\n",
              "      <td>True</td>\n",
              "      <td>False</td>\n",
              "      <td>False</td>\n",
              "    </tr>\n",
              "    <tr>\n",
              "      <th>3</th>\n",
              "      <td>4</td>\n",
              "      <td>Standard</td>\n",
              "      <td>12</td>\n",
              "      <td>2022-07-10</td>\n",
              "      <td>2023-06-26</td>\n",
              "      <td>51</td>\n",
              "      <td>351</td>\n",
              "      <td>140.40</td>\n",
              "      <td>50-54</td>\n",
              "      <td>True</td>\n",
              "      <td>...</td>\n",
              "      <td>False</td>\n",
              "      <td>False</td>\n",
              "      <td>False</td>\n",
              "      <td>False</td>\n",
              "      <td>False</td>\n",
              "      <td>False</td>\n",
              "      <td>True</td>\n",
              "      <td>False</td>\n",
              "      <td>False</td>\n",
              "      <td>False</td>\n",
              "    </tr>\n",
              "    <tr>\n",
              "      <th>4</th>\n",
              "      <td>5</td>\n",
              "      <td>Basic</td>\n",
              "      <td>10</td>\n",
              "      <td>2023-05-01</td>\n",
              "      <td>2023-06-28</td>\n",
              "      <td>33</td>\n",
              "      <td>58</td>\n",
              "      <td>19.33</td>\n",
              "      <td>30-34</td>\n",
              "      <td>False</td>\n",
              "      <td>...</td>\n",
              "      <td>True</td>\n",
              "      <td>False</td>\n",
              "      <td>False</td>\n",
              "      <td>False</td>\n",
              "      <td>False</td>\n",
              "      <td>False</td>\n",
              "      <td>False</td>\n",
              "      <td>False</td>\n",
              "      <td>True</td>\n",
              "      <td>False</td>\n",
              "    </tr>\n",
              "    <tr>\n",
              "      <th>...</th>\n",
              "      <td>...</td>\n",
              "      <td>...</td>\n",
              "      <td>...</td>\n",
              "      <td>...</td>\n",
              "      <td>...</td>\n",
              "      <td>...</td>\n",
              "      <td>...</td>\n",
              "      <td>...</td>\n",
              "      <td>...</td>\n",
              "      <td>...</td>\n",
              "      <td>...</td>\n",
              "      <td>...</td>\n",
              "      <td>...</td>\n",
              "      <td>...</td>\n",
              "      <td>...</td>\n",
              "      <td>...</td>\n",
              "      <td>...</td>\n",
              "      <td>...</td>\n",
              "      <td>...</td>\n",
              "      <td>...</td>\n",
              "      <td>...</td>\n",
              "    </tr>\n",
              "    <tr>\n",
              "      <th>2495</th>\n",
              "      <td>2496</td>\n",
              "      <td>Premium</td>\n",
              "      <td>14</td>\n",
              "      <td>2022-07-25</td>\n",
              "      <td>2023-07-12</td>\n",
              "      <td>28</td>\n",
              "      <td>352</td>\n",
              "      <td>164.27</td>\n",
              "      <td>25-29</td>\n",
              "      <td>True</td>\n",
              "      <td>...</td>\n",
              "      <td>False</td>\n",
              "      <td>False</td>\n",
              "      <td>False</td>\n",
              "      <td>True</td>\n",
              "      <td>False</td>\n",
              "      <td>False</td>\n",
              "      <td>False</td>\n",
              "      <td>True</td>\n",
              "      <td>False</td>\n",
              "      <td>False</td>\n",
              "    </tr>\n",
              "    <tr>\n",
              "      <th>2496</th>\n",
              "      <td>2497</td>\n",
              "      <td>Basic</td>\n",
              "      <td>15</td>\n",
              "      <td>2022-08-04</td>\n",
              "      <td>2023-07-14</td>\n",
              "      <td>33</td>\n",
              "      <td>344</td>\n",
              "      <td>172.00</td>\n",
              "      <td>30-34</td>\n",
              "      <td>True</td>\n",
              "      <td>...</td>\n",
              "      <td>False</td>\n",
              "      <td>False</td>\n",
              "      <td>False</td>\n",
              "      <td>True</td>\n",
              "      <td>False</td>\n",
              "      <td>False</td>\n",
              "      <td>False</td>\n",
              "      <td>True</td>\n",
              "      <td>False</td>\n",
              "      <td>False</td>\n",
              "    </tr>\n",
              "    <tr>\n",
              "      <th>2497</th>\n",
              "      <td>2498</td>\n",
              "      <td>Standard</td>\n",
              "      <td>12</td>\n",
              "      <td>2022-08-09</td>\n",
              "      <td>2023-07-15</td>\n",
              "      <td>38</td>\n",
              "      <td>340</td>\n",
              "      <td>136.00</td>\n",
              "      <td>35-39</td>\n",
              "      <td>False</td>\n",
              "      <td>...</td>\n",
              "      <td>False</td>\n",
              "      <td>False</td>\n",
              "      <td>False</td>\n",
              "      <td>False</td>\n",
              "      <td>False</td>\n",
              "      <td>True</td>\n",
              "      <td>True</td>\n",
              "      <td>False</td>\n",
              "      <td>False</td>\n",
              "      <td>False</td>\n",
              "    </tr>\n",
              "    <tr>\n",
              "      <th>2498</th>\n",
              "      <td>2499</td>\n",
              "      <td>Standard</td>\n",
              "      <td>13</td>\n",
              "      <td>2022-08-12</td>\n",
              "      <td>2023-07-12</td>\n",
              "      <td>48</td>\n",
              "      <td>334</td>\n",
              "      <td>144.73</td>\n",
              "      <td>45-49</td>\n",
              "      <td>True</td>\n",
              "      <td>...</td>\n",
              "      <td>False</td>\n",
              "      <td>False</td>\n",
              "      <td>False</td>\n",
              "      <td>False</td>\n",
              "      <td>False</td>\n",
              "      <td>False</td>\n",
              "      <td>False</td>\n",
              "      <td>False</td>\n",
              "      <td>False</td>\n",
              "      <td>True</td>\n",
              "    </tr>\n",
              "    <tr>\n",
              "      <th>2499</th>\n",
              "      <td>2500</td>\n",
              "      <td>Basic</td>\n",
              "      <td>15</td>\n",
              "      <td>2022-08-13</td>\n",
              "      <td>2023-07-12</td>\n",
              "      <td>35</td>\n",
              "      <td>333</td>\n",
              "      <td>166.50</td>\n",
              "      <td>35-39</td>\n",
              "      <td>True</td>\n",
              "      <td>...</td>\n",
              "      <td>False</td>\n",
              "      <td>False</td>\n",
              "      <td>False</td>\n",
              "      <td>False</td>\n",
              "      <td>False</td>\n",
              "      <td>True</td>\n",
              "      <td>False</td>\n",
              "      <td>True</td>\n",
              "      <td>False</td>\n",
              "      <td>False</td>\n",
              "    </tr>\n",
              "  </tbody>\n",
              "</table>\n",
              "<p>2500 rows × 25 columns</p>\n",
              "</div>\n",
              "    <div class=\"colab-df-buttons\">\n",
              "\n",
              "  <div class=\"colab-df-container\">\n",
              "    <button class=\"colab-df-convert\" onclick=\"convertToInteractive('df-ca038821-e1c7-40ac-b401-6d4a2e468133')\"\n",
              "            title=\"Convert this dataframe to an interactive table.\"\n",
              "            style=\"display:none;\">\n",
              "\n",
              "  <svg xmlns=\"http://www.w3.org/2000/svg\" height=\"24px\" viewBox=\"0 -960 960 960\">\n",
              "    <path d=\"M120-120v-720h720v720H120Zm60-500h600v-160H180v160Zm220 220h160v-160H400v160Zm0 220h160v-160H400v160ZM180-400h160v-160H180v160Zm440 0h160v-160H620v160ZM180-180h160v-160H180v160Zm440 0h160v-160H620v160Z\"/>\n",
              "  </svg>\n",
              "    </button>\n",
              "\n",
              "  <style>\n",
              "    .colab-df-container {\n",
              "      display:flex;\n",
              "      gap: 12px;\n",
              "    }\n",
              "\n",
              "    .colab-df-convert {\n",
              "      background-color: #E8F0FE;\n",
              "      border: none;\n",
              "      border-radius: 50%;\n",
              "      cursor: pointer;\n",
              "      display: none;\n",
              "      fill: #1967D2;\n",
              "      height: 32px;\n",
              "      padding: 0 0 0 0;\n",
              "      width: 32px;\n",
              "    }\n",
              "\n",
              "    .colab-df-convert:hover {\n",
              "      background-color: #E2EBFA;\n",
              "      box-shadow: 0px 1px 2px rgba(60, 64, 67, 0.3), 0px 1px 3px 1px rgba(60, 64, 67, 0.15);\n",
              "      fill: #174EA6;\n",
              "    }\n",
              "\n",
              "    .colab-df-buttons div {\n",
              "      margin-bottom: 4px;\n",
              "    }\n",
              "\n",
              "    [theme=dark] .colab-df-convert {\n",
              "      background-color: #3B4455;\n",
              "      fill: #D2E3FC;\n",
              "    }\n",
              "\n",
              "    [theme=dark] .colab-df-convert:hover {\n",
              "      background-color: #434B5C;\n",
              "      box-shadow: 0px 1px 3px 1px rgba(0, 0, 0, 0.15);\n",
              "      filter: drop-shadow(0px 1px 2px rgba(0, 0, 0, 0.3));\n",
              "      fill: #FFFFFF;\n",
              "    }\n",
              "  </style>\n",
              "\n",
              "    <script>\n",
              "      const buttonEl =\n",
              "        document.querySelector('#df-ca038821-e1c7-40ac-b401-6d4a2e468133 button.colab-df-convert');\n",
              "      buttonEl.style.display =\n",
              "        google.colab.kernel.accessAllowed ? 'block' : 'none';\n",
              "\n",
              "      async function convertToInteractive(key) {\n",
              "        const element = document.querySelector('#df-ca038821-e1c7-40ac-b401-6d4a2e468133');\n",
              "        const dataTable =\n",
              "          await google.colab.kernel.invokeFunction('convertToInteractive',\n",
              "                                                    [key], {});\n",
              "        if (!dataTable) return;\n",
              "\n",
              "        const docLinkHtml = 'Like what you see? Visit the ' +\n",
              "          '<a target=\"_blank\" href=https://colab.research.google.com/notebooks/data_table.ipynb>data table notebook</a>'\n",
              "          + ' to learn more about interactive tables.';\n",
              "        element.innerHTML = '';\n",
              "        dataTable['output_type'] = 'display_data';\n",
              "        await google.colab.output.renderOutput(dataTable, element);\n",
              "        const docLink = document.createElement('div');\n",
              "        docLink.innerHTML = docLinkHtml;\n",
              "        element.appendChild(docLink);\n",
              "      }\n",
              "    </script>\n",
              "  </div>\n",
              "\n",
              "\n",
              "<div id=\"df-3a935bcb-0788-4ad0-bee7-247f32c92756\">\n",
              "  <button class=\"colab-df-quickchart\" onclick=\"quickchart('df-3a935bcb-0788-4ad0-bee7-247f32c92756')\"\n",
              "            title=\"Suggest charts\"\n",
              "            style=\"display:none;\">\n",
              "\n",
              "<svg xmlns=\"http://www.w3.org/2000/svg\" height=\"24px\"viewBox=\"0 0 24 24\"\n",
              "     width=\"24px\">\n",
              "    <g>\n",
              "        <path d=\"M19 3H5c-1.1 0-2 .9-2 2v14c0 1.1.9 2 2 2h14c1.1 0 2-.9 2-2V5c0-1.1-.9-2-2-2zM9 17H7v-7h2v7zm4 0h-2V7h2v10zm4 0h-2v-4h2v4z\"/>\n",
              "    </g>\n",
              "</svg>\n",
              "  </button>\n",
              "\n",
              "<style>\n",
              "  .colab-df-quickchart {\n",
              "      --bg-color: #E8F0FE;\n",
              "      --fill-color: #1967D2;\n",
              "      --hover-bg-color: #E2EBFA;\n",
              "      --hover-fill-color: #174EA6;\n",
              "      --disabled-fill-color: #AAA;\n",
              "      --disabled-bg-color: #DDD;\n",
              "  }\n",
              "\n",
              "  [theme=dark] .colab-df-quickchart {\n",
              "      --bg-color: #3B4455;\n",
              "      --fill-color: #D2E3FC;\n",
              "      --hover-bg-color: #434B5C;\n",
              "      --hover-fill-color: #FFFFFF;\n",
              "      --disabled-bg-color: #3B4455;\n",
              "      --disabled-fill-color: #666;\n",
              "  }\n",
              "\n",
              "  .colab-df-quickchart {\n",
              "    background-color: var(--bg-color);\n",
              "    border: none;\n",
              "    border-radius: 50%;\n",
              "    cursor: pointer;\n",
              "    display: none;\n",
              "    fill: var(--fill-color);\n",
              "    height: 32px;\n",
              "    padding: 0;\n",
              "    width: 32px;\n",
              "  }\n",
              "\n",
              "  .colab-df-quickchart:hover {\n",
              "    background-color: var(--hover-bg-color);\n",
              "    box-shadow: 0 1px 2px rgba(60, 64, 67, 0.3), 0 1px 3px 1px rgba(60, 64, 67, 0.15);\n",
              "    fill: var(--button-hover-fill-color);\n",
              "  }\n",
              "\n",
              "  .colab-df-quickchart-complete:disabled,\n",
              "  .colab-df-quickchart-complete:disabled:hover {\n",
              "    background-color: var(--disabled-bg-color);\n",
              "    fill: var(--disabled-fill-color);\n",
              "    box-shadow: none;\n",
              "  }\n",
              "\n",
              "  .colab-df-spinner {\n",
              "    border: 2px solid var(--fill-color);\n",
              "    border-color: transparent;\n",
              "    border-bottom-color: var(--fill-color);\n",
              "    animation:\n",
              "      spin 1s steps(1) infinite;\n",
              "  }\n",
              "\n",
              "  @keyframes spin {\n",
              "    0% {\n",
              "      border-color: transparent;\n",
              "      border-bottom-color: var(--fill-color);\n",
              "      border-left-color: var(--fill-color);\n",
              "    }\n",
              "    20% {\n",
              "      border-color: transparent;\n",
              "      border-left-color: var(--fill-color);\n",
              "      border-top-color: var(--fill-color);\n",
              "    }\n",
              "    30% {\n",
              "      border-color: transparent;\n",
              "      border-left-color: var(--fill-color);\n",
              "      border-top-color: var(--fill-color);\n",
              "      border-right-color: var(--fill-color);\n",
              "    }\n",
              "    40% {\n",
              "      border-color: transparent;\n",
              "      border-right-color: var(--fill-color);\n",
              "      border-top-color: var(--fill-color);\n",
              "    }\n",
              "    60% {\n",
              "      border-color: transparent;\n",
              "      border-right-color: var(--fill-color);\n",
              "    }\n",
              "    80% {\n",
              "      border-color: transparent;\n",
              "      border-right-color: var(--fill-color);\n",
              "      border-bottom-color: var(--fill-color);\n",
              "    }\n",
              "    90% {\n",
              "      border-color: transparent;\n",
              "      border-bottom-color: var(--fill-color);\n",
              "    }\n",
              "  }\n",
              "</style>\n",
              "\n",
              "  <script>\n",
              "    async function quickchart(key) {\n",
              "      const quickchartButtonEl =\n",
              "        document.querySelector('#' + key + ' button');\n",
              "      quickchartButtonEl.disabled = true;  // To prevent multiple clicks.\n",
              "      quickchartButtonEl.classList.add('colab-df-spinner');\n",
              "      try {\n",
              "        const charts = await google.colab.kernel.invokeFunction(\n",
              "            'suggestCharts', [key], {});\n",
              "      } catch (error) {\n",
              "        console.error('Error during call to suggestCharts:', error);\n",
              "      }\n",
              "      quickchartButtonEl.classList.remove('colab-df-spinner');\n",
              "      quickchartButtonEl.classList.add('colab-df-quickchart-complete');\n",
              "    }\n",
              "    (() => {\n",
              "      let quickchartButtonEl =\n",
              "        document.querySelector('#df-3a935bcb-0788-4ad0-bee7-247f32c92756 button');\n",
              "      quickchartButtonEl.style.display =\n",
              "        google.colab.kernel.accessAllowed ? 'block' : 'none';\n",
              "    })();\n",
              "  </script>\n",
              "</div>\n",
              "    </div>\n",
              "  </div>\n"
            ],
            "application/vnd.google.colaboratory.intrinsic+json": {
              "type": "dataframe",
              "variable_name": "netflix_df"
            }
          },
          "metadata": {},
          "execution_count": 583
        }
      ]
    },
    {
      "cell_type": "markdown",
      "source": [
        "# Section 2: Exploratory Data Analysis"
      ],
      "metadata": {
        "id": "REW28gnhGlfC"
      }
    },
    {
      "cell_type": "markdown",
      "source": [
        "## Examining Revenue from Different Age Groups"
      ],
      "metadata": {
        "id": "NebN_qJYXhOb"
      }
    },
    {
      "cell_type": "code",
      "source": [
        "# Mean, Max, min, standard deviation, number of bins\n",
        "mean_age = netflix_df['Age'].mean()\n",
        "median_age = netflix_df['Age'].median()\n",
        "largest_age = netflix_df['Age'].max()\n",
        "smallest_age = netflix_df['Age'].min()\n",
        "first_quartile_age = np.percentile(netflix_df['Age'], 25)\n",
        "third_quartile_age = np.percentile(netflix_df['Age'], 75)\n",
        "standard_dev_age = np.std(netflix_df['Age'])\n",
        "\n",
        "print(\"Attributes of Netflix Userbase Dataset:\")\n",
        "print(\"Maximum age: \", largest_age)\n",
        "print(\"Minimum age: \", smallest_age)\n",
        "print(\"Median age: \", int(median_age))\n",
        "print(\"25th Quartile: \", int(first_quartile_age))\n",
        "print(\"75th Quartile: \", int(third_quartile_age))\n",
        "print(\"Average age: \", mean_age)\n",
        "print(\"Standard Deviation: \", standard_dev_age)"
      ],
      "metadata": {
        "colab": {
          "base_uri": "https://localhost:8080/"
        },
        "id": "xQQzA5ljgI_7",
        "outputId": "066424d7-c3da-4fa2-df58-41bc31ddf591"
      },
      "execution_count": null,
      "outputs": [
        {
          "output_type": "stream",
          "name": "stdout",
          "text": [
            "Attributes of Netflix Userbase Dataset:\n",
            "Maximum age:  51\n",
            "Minimum age:  26\n",
            "Median age:  39\n",
            "25th Quartile:  32\n",
            "75th Quartile:  45\n",
            "Average age:  38.7956\n",
            "Standard Deviation:  7.1703431326541125\n"
          ]
        }
      ]
    },
    {
      "cell_type": "markdown",
      "source": [
        "From the Netflix Userbase dataset, we can see that the maximum age is 51 years old and the minimum age is 26 years old. The median age is 39 years old, with the 25th and 75th quartiles being 32 years old and 45 years old. The mean age is 39 years old and the standard deviation being about 7 years."
      ],
      "metadata": {
        "id": "wZQt4ZNpgzkr"
      }
    },
    {
      "cell_type": "markdown",
      "source": [
        "Based on the attributes I obtained from the datasets, there does not appear to be any outliers.\n",
        "\n",
        "The minimum age of 26 years old is close to the 25th quartile, being within one standard deviation. Looking at the maxiumum age of 51 years old, we can again see that it is within one standard deviation of 75th quartile."
      ],
      "metadata": {
        "id": "RXoMPG_onCd8"
      }
    },
    {
      "cell_type": "markdown",
      "source": [
        "Next, looking at both the mean and median values, we can see that they are extremely close to each other. With a mean of 38.8 years old and median of 39 years old, The data is not skewed and is close to symmetrical."
      ],
      "metadata": {
        "id": "Hfh-_gghoH8j"
      }
    },
    {
      "cell_type": "code",
      "source": [
        "# Creating a boxplot\n",
        "fig = plt.figure(figsize=(9,6))\n",
        "ax = fig.add_subplot()\n",
        "bp = ax.boxplot(netflix_df['Age'], showmeans=True)\n",
        "\n",
        "# Labels and title\n",
        "plt.title(\"Ages of Netflix Userbase\")\n",
        "plt.xlabel(\"Age\")"
      ],
      "metadata": {
        "colab": {
          "base_uri": "https://localhost:8080/",
          "height": 581
        },
        "id": "uXsnMbEDpR0C",
        "outputId": "d942fd16-c7cd-4286-8e39-b907c0432128"
      },
      "execution_count": null,
      "outputs": [
        {
          "output_type": "execute_result",
          "data": {
            "text/plain": [
              "Text(0.5, 0, 'Age')"
            ]
          },
          "metadata": {},
          "execution_count": 585
        },
        {
          "output_type": "display_data",
          "data": {
            "text/plain": [
              "<Figure size 900x600 with 1 Axes>"
            ],
            "image/png": "[encoded data removed]"
          },
          "metadata": {}
        }
      ]
    },
    {
      "cell_type": "markdown",
      "source": [
        "Observing the box plot above, there appears to be no outliers. Also, as stated previously, the mean and median are extremely close to each other, indicating little to no skewness."
      ],
      "metadata": {
        "id": "vS2n8FcHqOc4"
      }
    },
    {
      "cell_type": "markdown",
      "source": [
        "Below is a histogram to further illustrate the distribution of age within the dataset."
      ],
      "metadata": {
        "id": "DthhxulMsLlx"
      }
    },
    {
      "cell_type": "code",
      "source": [
        "# Counting number of users within each age group\n",
        "age_group_count = []\n",
        "netflix_df.groupby('Age Group')['Age Group'].apply(lambda z: age_group_count.append(z.count()))\n",
        "\n",
        "# Ticks\n",
        "x = np.arange(len(netflix_df['Age Group'].unique()))\n",
        "\n",
        "# Plotting\n",
        "fig,ax = plt.subplots(figsize=(10,6))\n",
        "ax.bar(x, age_group_count, width=.35, label='Users')\n",
        "\n",
        "# Labels and title\n",
        "plt.xlabel('Age Groups')\n",
        "plt.ylabel('Number of Subscription Users')\n",
        "plt.title('Netflix Age Groups')\n",
        "ax.set_xticks(x)\n",
        "ax.set_xticklabels(netflix_df['Age Group'].unique())\n",
        "\n",
        "# Bar labels\n",
        "for container in ax.containers:\n",
        "  ax.bar_label(container)"
      ],
      "metadata": {
        "colab": {
          "base_uri": "https://localhost:8080/",
          "height": 564
        },
        "id": "8zrunMKF-vAq",
        "outputId": "76bda46b-5d53-45e3-9d4e-938a447ccc48"
      },
      "execution_count": null,
      "outputs": [
        {
          "output_type": "display_data",
          "data": {
            "text/plain": [
              "<Figure size 1000x600 with 1 Axes>"
            ],
            "image/png": "[encoded data removed]"
          },
          "metadata": {}
        }
      ]
    },
    {
      "cell_type": "markdown",
      "source": [
        "Looking at the histogram above, I can see that there are various peaks. And I can also see that there is little to no skewness in the data."
      ],
      "metadata": {
        "id": "xlN9DUn6sRYL"
      }
    },
    {
      "cell_type": "markdown",
      "source": [
        "Now the total monthly revenue can be calculated from each age group, along with how much revenue came from each age group based on each user's subscription length."
      ],
      "metadata": {
        "id": "es3P0fJG3XL7"
      }
    },
    {
      "cell_type": "code",
      "source": [
        "monthly_revenues = []\n",
        "\n",
        "# Calculate Monthly Revenue from those still subscribed in 2023/7\n",
        "last_payment_month = datetime.strptime(str(last_payment_date.year)+\"/\" + str(last_payment_date.month), \"%Y/%m\")\n",
        "\n",
        "monthly_revenue = netflix_df['Monthly Revenue'].sum()\n",
        "mon_rev_age_group = netflix_df[(netflix_df['Last Payment Date']>=last_payment_month)].groupby('Age Group')['Monthly Revenue']\n",
        "print(\"Monthly Revenue from Each Age Group (as of 2023/7):\")\n",
        "print(mon_rev_age_group.apply(lambda x : '${:,.2f}'.format(x.sum())))\n",
        "\n",
        "# Adding all Monthly Revenue based on Age group to a list\n",
        "add_to_list = mon_rev_age_group.apply(lambda y : monthly_revenues.append(y.sum()))\n",
        "\n",
        "sum = 0\n",
        "for i in monthly_revenues:\n",
        "  sum+=i\n",
        "print(\"Total monthly revenue:\", '${:,.2f}'.format(sum))\n",
        "print()\n",
        "\n",
        "#for calculating total revenue, include those no longer subscribed\n",
        "def calculate_total_revenue(a,b):\n",
        "  return netflix_df[(netflix_df['Age'] >= a) & (netflix_df['Age'] < b)]['Total User Revenue'].sum()\n",
        "\n",
        "print(\"Total revenues based on Age group, from \"+\n",
        "      str(first_join_date.year) + \"\\\\\"+ str(first_join_date.month)+ \" to \"\n",
        "      + str(last_payment_date.year)+\"\\\\\" + str(last_payment_date.month)+\": \")\n",
        "for idx in range(0, len(age_groups_str)):\n",
        "  age_range=age_groups_str[idx].split('-')\n",
        "  print(age_groups_str[idx] + \": \", end=\"\")\n",
        "  revenue = calculate_total_revenue(int(age_range[0]),int(age_range[1]))\n",
        "  print('${:,.2f}'.format(revenue))\n",
        "print(\"Total User Revenue:\", '${:,.2f}'.format(netflix_df['Total User Revenue'].sum()))"
      ],
      "metadata": {
        "colab": {
          "base_uri": "https://localhost:8080/"
        },
        "id": "t6a4A2BPfaXJ",
        "outputId": "be2195c6-a115-43e0-90bb-73ad97f37c9a"
      },
      "execution_count": null,
      "outputs": [
        {
          "output_type": "stream",
          "name": "stdout",
          "text": [
            "Monthly Revenue from Each Age Group (as of 2023/7):\n",
            "Age Group\n",
            "25-29    $2,341.00\n",
            "30-34    $4,163.00\n",
            "35-39    $4,072.00\n",
            "40-44    $4,334.00\n",
            "45-49    $3,999.00\n",
            "50-54    $1,533.00\n",
            "Name: Monthly Revenue, dtype: object\n",
            "Total monthly revenue: $20,442.00\n",
            "\n",
            "Total revenues based on Age group, from 2021\\9 to 2023\\7: \n",
            "25-29: $25,855.29\n",
            "30-34: $53,527.89\n",
            "35-39: $51,013.53\n",
            "40-44: $52,922.50\n",
            "45-49: $51,365.66\n",
            "50-54: $22,897.35\n",
            "Total User Revenue: $321,674.55\n"
          ]
        }
      ]
    },
    {
      "cell_type": "markdown",
      "source": [
        "Here is a pie chart of the revenues, divided by age groups."
      ],
      "metadata": {
        "id": "xNasDrYm-yQO"
      }
    },
    {
      "cell_type": "code",
      "source": [
        "df = pd.DataFrame({'revenues': monthly_revenues}, index=age_groups_str)\n",
        "pie_chart = df.plot.pie(y='revenues', figsize=(10,10))\n",
        "\n",
        "plt.title(\"Netflix Monthly Revenue based on Age Group\")\n",
        "plt.ylabel(\"Netflix Monthly Revenues\")"
      ],
      "metadata": {
        "colab": {
          "base_uri": "https://localhost:8080/",
          "height": 846
        },
        "id": "rT-CDQb4-xmQ",
        "outputId": "14a6533d-75f2-4aa2-ef5f-be3d74f62f65"
      },
      "execution_count": null,
      "outputs": [
        {
          "output_type": "execute_result",
          "data": {
            "text/plain": [
              "Text(0, 0.5, 'Netflix Monthly Revenues')"
            ]
          },
          "metadata": {},
          "execution_count": 588
        },
        {
          "output_type": "display_data",
          "data": {
            "text/plain": [
              "<Figure size 1000x1000 with 1 Axes>"
            ],
            "image/png": "[encoded data removed]"
          },
          "metadata": {}
        }
      ]
    },
    {
      "cell_type": "markdown",
      "source": [
        "With a monthly revenue of $20,442.00, the highest contributing age groups are 30-34,35-39, 40-44, and 45-49 years old. Together they make up around two-thirds of the entire Netflix revenue. This makes sense because looking back to the histogram showing the age distribution of the Netflix Userbase dataset, we can see that peaks are located close to the highest contributing groups."
      ],
      "metadata": {
        "id": "UkQQEXpw89Jn"
      }
    },
    {
      "cell_type": "markdown",
      "source": [
        "Based on these observations, it can be concluded that after analyzing the dataset, the age groups that are most likely to purchase a Netflix subscription are from the age groups of 30-34, 35-39, 40-44 and 45-49. I came to this conclusion after looking at the age distributions and revenues coming from these age groups."
      ],
      "metadata": {
        "id": "vgRjaLSlCXSv"
      }
    },
    {
      "cell_type": "markdown",
      "source": [
        "### Hypothesis Testing on Subscription Type and Age Group"
      ],
      "metadata": {
        "id": "w6nE7PsXXb_L"
      }
    },
    {
      "cell_type": "markdown",
      "source": [
        "There are different tiers when it comes to a Netflix subscription. They go from the order from lowest to highest tier: Basic, standard, and premium. Previously I concluded that there exists a range of age groups that are most likely to purchase a Netflix subscription. Now I want to explore whether the tier of Netflix subscription depends on age group."
      ],
      "metadata": {
        "id": "h1xyynK5CS_2"
      }
    },
    {
      "cell_type": "markdown",
      "source": [
        "To do this I will be doing hypothesis testing. A significance level of 0.05 will be used. The Chi-square test will be used since there are three subcategories within 'Subscription Type'. They are basic, standard and premium. Also, I chose Chi-Square test since we are dealing with discrete and categorical data."
      ],
      "metadata": {
        "id": "LApeni8FEi8k"
      }
    },
    {
      "cell_type": "markdown",
      "source": [
        "First the categorical data needs to be converted into numerical data."
      ],
      "metadata": {
        "id": "uDPwzq-NQ91F"
      }
    },
    {
      "cell_type": "code",
      "source": [
        "contingency_table = pd.crosstab(netflix_df['Age Group'], netflix_df['Subscription Type'])\n",
        "contingency_table"
      ],
      "metadata": {
        "id": "EqnOsiyICj0f",
        "colab": {
          "base_uri": "https://localhost:8080/",
          "height": 269
        },
        "outputId": "72ae1ddb-4fb8-4076-ad04-d1a882f13f7c"
      },
      "execution_count": null,
      "outputs": [
        {
          "output_type": "execute_result",
          "data": {
            "text/plain": [
              "Subscription Type  Basic  Premium  Standard\n",
              "Age Group                                  \n",
              "25-29                123       98        86\n",
              "30-34                197      155       152\n",
              "35-39                222      138       156\n",
              "40-44                180      148       171\n",
              "45-49                208      142       147\n",
              "50-54                 69       52        56"
            ],
            "text/html": [
              "\n",
              "  <div id=\"df-409050a5-0cda-4a8c-898e-e679f0b73e5f\" class=\"colab-df-container\">\n",
              "    <div>\n",
              "<style scoped>\n",
              "    .dataframe tbody tr th:only-of-type {\n",
              "        vertical-align: middle;\n",
              "    }\n",
              "\n",
              "    .dataframe tbody tr th {\n",
              "        vertical-align: top;\n",
              "    }\n",
              "\n",
              "    .dataframe thead th {\n",
              "        text-align: right;\n",
              "    }\n",
              "</style>\n",
              "<table border=\"1\" class=\"dataframe\">\n",
              "  <thead>\n",
              "    <tr style=\"text-align: right;\">\n",
              "      <th>Subscription Type</th>\n",
              "      <th>Basic</th>\n",
              "      <th>Premium</th>\n",
              "      <th>Standard</th>\n",
              "    </tr>\n",
              "    <tr>\n",
              "      <th>Age Group</th>\n",
              "      <th></th>\n",
              "      <th></th>\n",
              "      <th></th>\n",
              "    </tr>\n",
              "  </thead>\n",
              "  <tbody>\n",
              "    <tr>\n",
              "      <th>25-29</th>\n",
              "      <td>123</td>\n",
              "      <td>98</td>\n",
              "      <td>86</td>\n",
              "    </tr>\n",
              "    <tr>\n",
              "      <th>30-34</th>\n",
              "      <td>197</td>\n",
              "      <td>155</td>\n",
              "      <td>152</td>\n",
              "    </tr>\n",
              "    <tr>\n",
              "      <th>35-39</th>\n",
              "      <td>222</td>\n",
              "      <td>138</td>\n",
              "      <td>156</td>\n",
              "    </tr>\n",
              "    <tr>\n",
              "      <th>40-44</th>\n",
              "      <td>180</td>\n",
              "      <td>148</td>\n",
              "      <td>171</td>\n",
              "    </tr>\n",
              "    <tr>\n",
              "      <th>45-49</th>\n",
              "      <td>208</td>\n",
              "      <td>142</td>\n",
              "      <td>147</td>\n",
              "    </tr>\n",
              "    <tr>\n",
              "      <th>50-54</th>\n",
              "      <td>69</td>\n",
              "      <td>52</td>\n",
              "      <td>56</td>\n",
              "    </tr>\n",
              "  </tbody>\n",
              "</table>\n",
              "</div>\n",
              "    <div class=\"colab-df-buttons\">\n",
              "\n",
              "  <div class=\"colab-df-container\">\n",
              "    <button class=\"colab-df-convert\" onclick=\"convertToInteractive('df-409050a5-0cda-4a8c-898e-e679f0b73e5f')\"\n",
              "            title=\"Convert this dataframe to an interactive table.\"\n",
              "            style=\"display:none;\">\n",
              "\n",
              "  <svg xmlns=\"http://www.w3.org/2000/svg\" height=\"24px\" viewBox=\"0 -960 960 960\">\n",
              "    <path d=\"M120-120v-720h720v720H120Zm60-500h600v-160H180v160Zm220 220h160v-160H400v160Zm0 220h160v-160H400v160ZM180-400h160v-160H180v160Zm440 0h160v-160H620v160ZM180-180h160v-160H180v160Zm440 0h160v-160H620v160Z\"/>\n",
              "  </svg>\n",
              "    </button>\n",
              "\n",
              "  <style>\n",
              "    .colab-df-container {\n",
              "      display:flex;\n",
              "      gap: 12px;\n",
              "    }\n",
              "\n",
              "    .colab-df-convert {\n",
              "      background-color: #E8F0FE;\n",
              "      border: none;\n",
              "      border-radius: 50%;\n",
              "      cursor: pointer;\n",
              "      display: none;\n",
              "      fill: #1967D2;\n",
              "      height: 32px;\n",
              "      padding: 0 0 0 0;\n",
              "      width: 32px;\n",
              "    }\n",
              "\n",
              "    .colab-df-convert:hover {\n",
              "      background-color: #E2EBFA;\n",
              "      box-shadow: 0px 1px 2px rgba(60, 64, 67, 0.3), 0px 1px 3px 1px rgba(60, 64, 67, 0.15);\n",
              "      fill: #174EA6;\n",
              "    }\n",
              "\n",
              "    .colab-df-buttons div {\n",
              "      margin-bottom: 4px;\n",
              "    }\n",
              "\n",
              "    [theme=dark] .colab-df-convert {\n",
              "      background-color: #3B4455;\n",
              "      fill: #D2E3FC;\n",
              "    }\n",
              "\n",
              "    [theme=dark] .colab-df-convert:hover {\n",
              "      background-color: #434B5C;\n",
              "      box-shadow: 0px 1px 3px 1px rgba(0, 0, 0, 0.15);\n",
              "      filter: drop-shadow(0px 1px 2px rgba(0, 0, 0, 0.3));\n",
              "      fill: #FFFFFF;\n",
              "    }\n",
              "  </style>\n",
              "\n",
              "    <script>\n",
              "      const buttonEl =\n",
              "        document.querySelector('#df-409050a5-0cda-4a8c-898e-e679f0b73e5f button.colab-df-convert');\n",
              "      buttonEl.style.display =\n",
              "        google.colab.kernel.accessAllowed ? 'block' : 'none';\n",
              "\n",
              "      async function convertToInteractive(key) {\n",
              "        const element = document.querySelector('#df-409050a5-0cda-4a8c-898e-e679f0b73e5f');\n",
              "        const dataTable =\n",
              "          await google.colab.kernel.invokeFunction('convertToInteractive',\n",
              "                                                    [key], {});\n",
              "        if (!dataTable) return;\n",
              "\n",
              "        const docLinkHtml = 'Like what you see? Visit the ' +\n",
              "          '<a target=\"_blank\" href=https://colab.research.google.com/notebooks/data_table.ipynb>data table notebook</a>'\n",
              "          + ' to learn more about interactive tables.';\n",
              "        element.innerHTML = '';\n",
              "        dataTable['output_type'] = 'display_data';\n",
              "        await google.colab.output.renderOutput(dataTable, element);\n",
              "        const docLink = document.createElement('div');\n",
              "        docLink.innerHTML = docLinkHtml;\n",
              "        element.appendChild(docLink);\n",
              "      }\n",
              "    </script>\n",
              "  </div>\n",
              "\n",
              "\n",
              "<div id=\"df-b15e1e3c-bc17-4a58-9c66-a08b32c0588c\">\n",
              "  <button class=\"colab-df-quickchart\" onclick=\"quickchart('df-b15e1e3c-bc17-4a58-9c66-a08b32c0588c')\"\n",
              "            title=\"Suggest charts\"\n",
              "            style=\"display:none;\">\n",
              "\n",
              "<svg xmlns=\"http://www.w3.org/2000/svg\" height=\"24px\"viewBox=\"0 0 24 24\"\n",
              "     width=\"24px\">\n",
              "    <g>\n",
              "        <path d=\"M19 3H5c-1.1 0-2 .9-2 2v14c0 1.1.9 2 2 2h14c1.1 0 2-.9 2-2V5c0-1.1-.9-2-2-2zM9 17H7v-7h2v7zm4 0h-2V7h2v10zm4 0h-2v-4h2v4z\"/>\n",
              "    </g>\n",
              "</svg>\n",
              "  </button>\n",
              "\n",
              "<style>\n",
              "  .colab-df-quickchart {\n",
              "      --bg-color: #E8F0FE;\n",
              "      --fill-color: #1967D2;\n",
              "      --hover-bg-color: #E2EBFA;\n",
              "      --hover-fill-color: #174EA6;\n",
              "      --disabled-fill-color: #AAA;\n",
              "      --disabled-bg-color: #DDD;\n",
              "  }\n",
              "\n",
              "  [theme=dark] .colab-df-quickchart {\n",
              "      --bg-color: #3B4455;\n",
              "      --fill-color: #D2E3FC;\n",
              "      --hover-bg-color: #434B5C;\n",
              "      --hover-fill-color: #FFFFFF;\n",
              "      --disabled-bg-color: #3B4455;\n",
              "      --disabled-fill-color: #666;\n",
              "  }\n",
              "\n",
              "  .colab-df-quickchart {\n",
              "    background-color: var(--bg-color);\n",
              "    border: none;\n",
              "    border-radius: 50%;\n",
              "    cursor: pointer;\n",
              "    display: none;\n",
              "    fill: var(--fill-color);\n",
              "    height: 32px;\n",
              "    padding: 0;\n",
              "    width: 32px;\n",
              "  }\n",
              "\n",
              "  .colab-df-quickchart:hover {\n",
              "    background-color: var(--hover-bg-color);\n",
              "    box-shadow: 0 1px 2px rgba(60, 64, 67, 0.3), 0 1px 3px 1px rgba(60, 64, 67, 0.15);\n",
              "    fill: var(--button-hover-fill-color);\n",
              "  }\n",
              "\n",
              "  .colab-df-quickchart-complete:disabled,\n",
              "  .colab-df-quickchart-complete:disabled:hover {\n",
              "    background-color: var(--disabled-bg-color);\n",
              "    fill: var(--disabled-fill-color);\n",
              "    box-shadow: none;\n",
              "  }\n",
              "\n",
              "  .colab-df-spinner {\n",
              "    border: 2px solid var(--fill-color);\n",
              "    border-color: transparent;\n",
              "    border-bottom-color: var(--fill-color);\n",
              "    animation:\n",
              "      spin 1s steps(1) infinite;\n",
              "  }\n",
              "\n",
              "  @keyframes spin {\n",
              "    0% {\n",
              "      border-color: transparent;\n",
              "      border-bottom-color: var(--fill-color);\n",
              "      border-left-color: var(--fill-color);\n",
              "    }\n",
              "    20% {\n",
              "      border-color: transparent;\n",
              "      border-left-color: var(--fill-color);\n",
              "      border-top-color: var(--fill-color);\n",
              "    }\n",
              "    30% {\n",
              "      border-color: transparent;\n",
              "      border-left-color: var(--fill-color);\n",
              "      border-top-color: var(--fill-color);\n",
              "      border-right-color: var(--fill-color);\n",
              "    }\n",
              "    40% {\n",
              "      border-color: transparent;\n",
              "      border-right-color: var(--fill-color);\n",
              "      border-top-color: var(--fill-color);\n",
              "    }\n",
              "    60% {\n",
              "      border-color: transparent;\n",
              "      border-right-color: var(--fill-color);\n",
              "    }\n",
              "    80% {\n",
              "      border-color: transparent;\n",
              "      border-right-color: var(--fill-color);\n",
              "      border-bottom-color: var(--fill-color);\n",
              "    }\n",
              "    90% {\n",
              "      border-color: transparent;\n",
              "      border-bottom-color: var(--fill-color);\n",
              "    }\n",
              "  }\n",
              "</style>\n",
              "\n",
              "  <script>\n",
              "    async function quickchart(key) {\n",
              "      const quickchartButtonEl =\n",
              "        document.querySelector('#' + key + ' button');\n",
              "      quickchartButtonEl.disabled = true;  // To prevent multiple clicks.\n",
              "      quickchartButtonEl.classList.add('colab-df-spinner');\n",
              "      try {\n",
              "        const charts = await google.colab.kernel.invokeFunction(\n",
              "            'suggestCharts', [key], {});\n",
              "      } catch (error) {\n",
              "        console.error('Error during call to suggestCharts:', error);\n",
              "      }\n",
              "      quickchartButtonEl.classList.remove('colab-df-spinner');\n",
              "      quickchartButtonEl.classList.add('colab-df-quickchart-complete');\n",
              "    }\n",
              "    (() => {\n",
              "      let quickchartButtonEl =\n",
              "        document.querySelector('#df-b15e1e3c-bc17-4a58-9c66-a08b32c0588c button');\n",
              "      quickchartButtonEl.style.display =\n",
              "        google.colab.kernel.accessAllowed ? 'block' : 'none';\n",
              "    })();\n",
              "  </script>\n",
              "</div>\n",
              "    </div>\n",
              "  </div>\n"
            ],
            "application/vnd.google.colaboratory.intrinsic+json": {
              "type": "dataframe",
              "variable_name": "contingency_table",
              "summary": "{\n  \"name\": \"contingency_table\",\n  \"rows\": 6,\n  \"fields\": [\n    {\n      \"column\": \"Age Group\",\n      \"properties\": {\n        \"dtype\": \"category\",\n        \"num_unique_values\": 6,\n        \"samples\": [\n          \"25-29\",\n          \"30-34\",\n          \"50-54\"\n        ],\n        \"semantic_type\": \"\",\n        \"description\": \"\"\n      }\n    },\n    {\n      \"column\": \"Basic\",\n      \"properties\": {\n        \"dtype\": \"number\",\n        \"std\": 58,\n        \"min\": 69,\n        \"max\": 222,\n        \"num_unique_values\": 6,\n        \"samples\": [\n          123,\n          197,\n          69\n        ],\n        \"semantic_type\": \"\",\n        \"description\": \"\"\n      }\n    },\n    {\n      \"column\": \"Premium\",\n      \"properties\": {\n        \"dtype\": \"number\",\n        \"std\": 39,\n        \"min\": 52,\n        \"max\": 155,\n        \"num_unique_values\": 6,\n        \"samples\": [\n          98,\n          155,\n          52\n        ],\n        \"semantic_type\": \"\",\n        \"description\": \"\"\n      }\n    },\n    {\n      \"column\": \"Standard\",\n      \"properties\": {\n        \"dtype\": \"number\",\n        \"std\": 45,\n        \"min\": 56,\n        \"max\": 171,\n        \"num_unique_values\": 6,\n        \"samples\": [\n          86,\n          152,\n          56\n        ],\n        \"semantic_type\": \"\",\n        \"description\": \"\"\n      }\n    }\n  ]\n}"
            }
          },
          "metadata": {},
          "execution_count": 589
        }
      ]
    },
    {
      "cell_type": "markdown",
      "source": [
        "Here are the Null Hypothesis and Alternative Hypothesis:\n",
        "\n",
        "*   $H_0$: An individual's age group does affect their subscription type.\n",
        "*   $H_a$: An individual's age group does not affect their subscription type.\n",
        "\n"
      ],
      "metadata": {
        "id": "fIg2tDfnV1HG"
      }
    },
    {
      "cell_type": "code",
      "source": [
        "res = chi2_contingency(contingency_table)\n",
        "res.pvalue"
      ],
      "metadata": {
        "colab": {
          "base_uri": "https://localhost:8080/"
        },
        "id": "vyGkUWlWV1un",
        "outputId": "04e98b11-7c17-4dd0-e7f3-14b4f8fae926"
      },
      "execution_count": null,
      "outputs": [
        {
          "output_type": "execute_result",
          "data": {
            "text/plain": [
              "0.5172716325614647"
            ]
          },
          "metadata": {},
          "execution_count": 590
        }
      ]
    },
    {
      "cell_type": "markdown",
      "source": [
        "Looking at the result from the Chi-Square test, it fails to reject the null hypothesis since the p-value is greater than the significance level of 0.05. What this means is that there is enough evidence to suggest that an individual's age group does have an effect on their subscription type."
      ],
      "metadata": {
        "id": "Q0ASPiwSZrhT"
      }
    },
    {
      "cell_type": "code",
      "source": [
        "plt.figure(figsize=(8, 6))\n",
        "sns.countplot(data=netflix_df, x='Age Group', hue='Subscription Type')\n",
        "plt.title('Relationship between Subscription Type and Age Group')\n",
        "plt.xlabel('Age Group')\n",
        "plt.ylabel('Users')\n",
        "plt.legend(title='Subscription Type')"
      ],
      "metadata": {
        "colab": {
          "base_uri": "https://localhost:8080/",
          "height": 581
        },
        "id": "IbOcO3Tlam-I",
        "outputId": "acd53ff9-b897-4ad0-c2d7-1c776547a36d"
      },
      "execution_count": null,
      "outputs": [
        {
          "output_type": "execute_result",
          "data": {
            "text/plain": [
              "<matplotlib.legend.Legend at 0x7959d11501f0>"
            ]
          },
          "metadata": {},
          "execution_count": 591
        },
        {
          "output_type": "display_data",
          "data": {
            "text/plain": [
              "<Figure size 800x600 with 1 Axes>"
            ],
            "image/png": "[encoded data removed]"
          },
          "metadata": {}
        }
      ]
    },
    {
      "cell_type": "markdown",
      "source": [
        "### Correlation Analysis on Subscription Type and Age Group"
      ],
      "metadata": {
        "id": "wgr6YqB9Y36p"
      }
    },
    {
      "cell_type": "code",
      "source": [
        "age_range_mapping = {\n",
        "    '25-29': 1,\n",
        "    '30-34': 2,\n",
        "    '35-39': 3,\n",
        "    '40-44': 4,\n",
        "    '45-49': 5,\n",
        "    '50-54': 6\n",
        "}\n",
        "\n",
        "#graph for all subscription types\n",
        "for subscription_type in list(netflix_df['Subscription Type'].unique()):\n",
        "    Y_arr = []  # subscription count for each age group, only counting those still subscribed\n",
        "    x = age_groups_str\n",
        "\n",
        "    for age_group in x:\n",
        "        Y_arr.append(len(netflix_df[(netflix_df['Subscription Type'] == subscription_type) & (netflix_df['Age Group'] == age_group) & (netflix_df['Last Payment Date'] <= last_payment_month)]))\n",
        "\n",
        "    fig, ax = plt.subplots()\n",
        "    ax.scatter(x, Y_arr)\n",
        "    ax.set_xlabel('Age Ranges', fontsize=16)\n",
        "    ax.set_ylabel('{} Subscription'.format(subscription_type), fontsize=16)\n",
        "    ax.set_ylim(0,100)\n",
        "\n",
        "    numerical_x = [] #numerical representation for age group\n",
        "\n",
        "    for age_group in x:\n",
        "        numerical_age = age_range_mapping[age_group]\n",
        "        numerical_x.append(numerical_age)\n",
        "\n",
        "    x = np.array(numerical_x)\n",
        "\n",
        "    Y_arr = np.array(Y_arr)\n",
        "\n",
        "    correlation_coefficient = np.corrcoef(Y_arr, x)[0, 1]\n",
        "    print(\"The Pearson Correlation Coefficient for the {} Subscription is: {}\".format(subscription_type, correlation_coefficient))\n",
        "\n",
        "#total subscription graph\n",
        "Y_arr = []  # subscription count for each age group, only counting those still subscribed\n",
        "x = age_groups_str\n",
        "\n",
        "for age_group in x:\n",
        "    Y_arr.append(len(netflix_df[(netflix_df['Age Group'] == age_group) & (netflix_df['Last Payment Date'] <= last_payment_month)]))\n",
        "\n",
        "fig, ax = plt.subplots()\n",
        "ax.scatter(x, Y_arr)\n",
        "ax.set_xlabel('Age Ranges', fontsize=16)\n",
        "ax.set_ylabel('Total Subscriptions', fontsize=16)\n",
        "ax.set_ylim(0,250)\n",
        "\n",
        "\n",
        "plt.show()"
      ],
      "metadata": {
        "id": "jFd0cy-s7cxH",
        "outputId": "086a60a8-242e-4891-ae4a-c2f710cbb1f8",
        "colab": {
          "base_uri": "https://localhost:8080/",
          "height": 1000
        }
      },
      "execution_count": null,
      "outputs": [
        {
          "output_type": "stream",
          "name": "stdout",
          "text": [
            "The Pearson Correlation Coefficient for the Basic Subscription is: -0.19721483356756872\n",
            "The Pearson Correlation Coefficient for the Premium Subscription is: -0.36393935481207457\n",
            "The Pearson Correlation Coefficient for the Standard Subscription is: -0.34464787129857727\n"
          ]
        },
        {
          "output_type": "display_data",
          "data": {
            "text/plain": [
              "<Figure size 640x480 with 1 Axes>"
            ],
            "image/png": "[encoded data removed]"
          },
          "metadata": {}
        },
        {
          "output_type": "display_data",
          "data": {
            "text/plain": [
              "<Figure size 640x480 with 1 Axes>"
            ],
            "image/png": "[encoded data removed]"
          },
          "metadata": {}
        },
        {
          "output_type": "display_data",
          "data": {
            "text/plain": [
              "<Figure size 640x480 with 1 Axes>"
            ],
            "image/png": "[encoded data removed]"
          },
          "metadata": {}
        },
        {
          "output_type": "display_data",
          "data": {
            "text/plain": [
              "<Figure size 640x480 with 1 Axes>"
            ],
            "image/png": "[encoded data removed]"
          },
          "metadata": {}
        }
      ]
    },
    {
      "cell_type": "code",
      "source": [
        "age_range_mapping = {\n",
        "    '25-29': 1,\n",
        "    '30-34': 2,\n",
        "    '35-39': 3,\n",
        "    '40-44': 4,\n",
        "    '45-49': 5,\n",
        "    '50-54': 6\n",
        "}\n",
        "\n",
        "#graph for all subscription types\n",
        "for subscription_type in list(netflix_df['Subscription Type'].unique()):\n",
        "    Y_arr = []  # subscription count for each age group, only counting those still subscribed\n",
        "    x = age_groups_str\n",
        "\n",
        "    for age_group in x:\n",
        "        Y_arr.append(len(netflix_df[(netflix_df['Subscription Type'] == subscription_type) & (netflix_df['Age Group'] == age_group) & (netflix_df['Last Payment Date'] <= last_payment_month)]))\n",
        "\n",
        "    fig, ax = plt.subplots()\n",
        "    ax.scatter(x, Y_arr)\n",
        "    ax.set_xlabel('Age Ranges', fontsize=16)\n",
        "    ax.set_ylabel('{} Subscription'.format(subscription_type), fontsize=16)\n",
        "    ax.set_ylim(0,100)\n",
        "\n",
        "    numerical_x = [] #numerical representation for age group\n",
        "\n",
        "    for age_group in x:\n",
        "        numerical_age = age_range_mapping[age_group]\n",
        "        numerical_x.append(numerical_age)\n",
        "\n",
        "    x = np.array(numerical_x)\n",
        "\n",
        "    Y_arr = np.array(Y_arr)\n",
        "\n",
        "    correlation_coefficient = np.corrcoef(Y_arr, x)[0, 1]\n",
        "    print(\"The Pearson Correlation Coefficient for the {} Subscription is: {}\".format(subscription_type, correlation_coefficient))\n",
        "\n",
        "#total subscription graph\n",
        "Y_arr = []  # subscription count for each age group, only counting those still subscribed\n",
        "x = age_groups_str\n",
        "\n",
        "for age_group in x:\n",
        "    Y_arr.append(len(netflix_df[(netflix_df['Age Group'] == age_group) & (netflix_df['Last Payment Date'] <= last_payment_month)]))\n",
        "\n",
        "fig, ax = plt.subplots()\n",
        "ax.scatter(x, Y_arr)\n",
        "ax.set_xlabel('Age Ranges', fontsize=16)\n",
        "ax.set_ylabel('Total Subscriptions', fontsize=16)\n",
        "ax.set_ylim(0,250)\n",
        "\n",
        "plt.show()"
      ],
      "metadata": {
        "outputId": "51d2ba29-6fbb-4d9c-a800-cc4c652ada6c",
        "colab": {
          "base_uri": "https://localhost:8080/",
          "height": 1000
        },
        "id": "wqI-h6b2l6iG"
      },
      "execution_count": null,
      "outputs": [
        {
          "output_type": "stream",
          "name": "stdout",
          "text": [
            "The Pearson Correlation Coefficient for the Basic Subscription is: -0.19721483356756872\n",
            "The Pearson Correlation Coefficient for the Premium Subscription is: -0.36393935481207457\n",
            "The Pearson Correlation Coefficient for the Standard Subscription is: -0.34464787129857727\n"
          ]
        },
        {
          "output_type": "display_data",
          "data": {
            "text/plain": [
              "<Figure size 640x480 with 1 Axes>"
            ],
            "image/png": "[encoded data removed]"
          },
          "metadata": {}
        },
        {
          "output_type": "display_data",
          "data": {
            "text/plain": [
              "<Figure size 640x480 with 1 Axes>"
            ],
            "image/png": "[encoded data removed]"
          },
          "metadata": {}
        },
        {
          "output_type": "display_data",
          "data": {
            "text/plain": [
              "<Figure size 640x480 with 1 Axes>"
            ],
            "image/png": "[encoded data removed]"
          },
          "metadata": {}
        },
        {
          "output_type": "display_data",
          "data": {
            "text/plain": [
              "<Figure size 640x480 with 1 Axes>"
            ],
            "image/png": "[encoded data removed]"
          },
          "metadata": {}
        }
      ]
    },
    {
      "cell_type": "markdown",
      "source": [
        "As shown above the Pearson Correlation Coefficient for all three types of subscription is negative, which means that age has a negative correlation with subscription type. The coefficient for standard subscription type is ~(-.20) which means that the correlation between this type and age is weak. The correlation coefficients for premium and standard type are ~(-0.36) and ~(-0.34), which means that there is a moderate correlation between age and these two subscription types. In other words, older age group is less likely to purchase standard and premium subscription, which is more expensive.\n",
        "The graphs shows agreement to this as subscription for basic type is significantly more than other types."
      ],
      "metadata": {
        "id": "VoD01hPawJU3"
      }
    },
    {
      "cell_type": "markdown",
      "source": [
        "# Section 3: Primary Analysis using Machine Learning"
      ],
      "metadata": {
        "id": "6EUaQg2oFFgu"
      }
    },
    {
      "cell_type": "markdown",
      "source": [
        "### Machine Learning Model Selection\n",
        "\n",
        "As part of the machine learning data analysis, I want to compare three different Machine Learning models to see which model will best fit the dataset.\n",
        "These models are the K-nearest Neighbors model, Random Forest Model, and Logisitic Regression"
      ],
      "metadata": {
        "id": "Zf0M_wVfG-J1"
      }
    },
    {
      "cell_type": "markdown",
      "source": [
        "Below setting up the models, along with determining the input features (features used to predict the output feature) and the output features."
      ],
      "metadata": {
        "id": "UYQWVDmFfJMl"
      }
    },
    {
      "cell_type": "code",
      "source": [
        "# Here are the three models\n",
        "\n",
        "netflix_models = {\n",
        "    'Netflix KNN' : KNeighborsClassifier(),\n",
        "    'Netflix Random Forest' : RandomForestClassifier(),\n",
        "    'Netflix Logisitic Regression' : LogisticRegression()\n",
        "}\n",
        "\n",
        "excluded_features = ['Subscription Type', 'Laptop', 'Smart TV', 'Smartphone', 'Tablet', 'Monthly Revenue', 'Join Date', 'Last Payment Date', 'Total User Revenue', 'Subscription Length (in days)', 'User ID', 'Age Group']\n",
        "\n",
        "# My input features\n",
        "X = netflix_df.loc[:,(netflix_df.drop(columns=excluded_features)).columns]\n",
        "\n",
        "# The target feature\n",
        "y = netflix_df['Subscription Type']"
      ],
      "metadata": {
        "id": "OCKEs_GBVNKl"
      },
      "execution_count": null,
      "outputs": []
    },
    {
      "cell_type": "markdown",
      "source": [
        "Next the dataset is split between training dataset and testing dataset."
      ],
      "metadata": {
        "id": "y7imlB7rgA48"
      }
    },
    {
      "cell_type": "code",
      "source": [
        "# In order to have the results be consistent, a set seed of 6 will be used\n",
        "seed = 6\n",
        "X_train, X_test, y_train, y_test = train_test_split(X, y, test_size=0.3, random_state=seed)"
      ],
      "metadata": {
        "id": "szPUuHT5hjxr"
      },
      "execution_count": null,
      "outputs": []
    },
    {
      "cell_type": "markdown",
      "source": [
        "The features here need to be standardized to prevent biases in the machine learning model."
      ],
      "metadata": {
        "id": "EGG8UsxDhzNP"
      }
    },
    {
      "cell_type": "code",
      "source": [
        "scaler = StandardScaler()\n",
        "\n",
        "X_train_scaled = scaler.fit_transform(X_train)\n",
        "X_test_scaled = scaler.fit_transform(X_test)"
      ],
      "metadata": {
        "id": "XCSizz41h9S5"
      },
      "execution_count": null,
      "outputs": []
    },
    {
      "cell_type": "markdown",
      "source": [
        "Now I start training each one of the ML models and see which one is best suited for the dataset."
      ],
      "metadata": {
        "id": "G_DZLGk_jkqy"
      }
    },
    {
      "cell_type": "code",
      "source": [
        "for model_name, model in netflix_models.items():\n",
        "  model = model.fit(X_train_scaled, y_train)"
      ],
      "metadata": {
        "id": "Ow28KACQjsME"
      },
      "execution_count": null,
      "outputs": []
    },
    {
      "cell_type": "markdown",
      "source": [
        "\n",
        "Below is a report of each of the Netflix Models"
      ],
      "metadata": {
        "id": "3J7Fh8Zpj5el"
      }
    },
    {
      "cell_type": "code",
      "source": [
        "x_test_scaled = scaler.fit_transform(X_test)\n",
        "\n",
        "for model_name, model in netflix_models.items():\n",
        "  y_pred = model.predict(x_test_scaled)\n",
        "  accuracy = accuracy_score(y_test, y_pred)\n",
        "\n",
        "  print(\"Accuracy of \" + model_name + \": \" + str(accuracy))\n",
        "  print(classification_report(y_test, y_pred, zero_division=1))\n",
        "  print(\"-\"*100)"
      ],
      "metadata": {
        "colab": {
          "base_uri": "https://localhost:8080/"
        },
        "id": "j46OdDQQkELQ",
        "outputId": "36d4fc05-f1cd-4152-f032-ae48ba06bf8a"
      },
      "execution_count": null,
      "outputs": [
        {
          "output_type": "stream",
          "name": "stdout",
          "text": [
            "Accuracy of Netflix KNN: 0.6066666666666667\n",
            "              precision    recall  f1-score   support\n",
            "\n",
            "       Basic       0.60      0.74      0.66       304\n",
            "     Premium       0.50      0.48      0.49       219\n",
            "    Standard       0.75      0.56      0.64       227\n",
            "\n",
            "    accuracy                           0.61       750\n",
            "   macro avg       0.62      0.59      0.60       750\n",
            "weighted avg       0.62      0.61      0.60       750\n",
            "\n",
            "----------------------------------------------------------------------------------------------------\n",
            "Accuracy of Netflix Random Forest: 0.5786666666666667\n",
            "              precision    recall  f1-score   support\n",
            "\n",
            "       Basic       0.60      0.64      0.62       304\n",
            "     Premium       0.46      0.46      0.46       219\n",
            "    Standard       0.66      0.60      0.63       227\n",
            "\n",
            "    accuracy                           0.58       750\n",
            "   macro avg       0.58      0.57      0.57       750\n",
            "weighted avg       0.58      0.58      0.58       750\n",
            "\n",
            "----------------------------------------------------------------------------------------------------\n",
            "Accuracy of Netflix Logisitic Regression: 0.6533333333333333\n",
            "              precision    recall  f1-score   support\n",
            "\n",
            "       Basic       0.61      0.80      0.69       304\n",
            "     Premium       0.56      0.60      0.58       219\n",
            "    Standard       0.98      0.51      0.67       227\n",
            "\n",
            "    accuracy                           0.65       750\n",
            "   macro avg       0.72      0.64      0.65       750\n",
            "weighted avg       0.71      0.65      0.65       750\n",
            "\n",
            "----------------------------------------------------------------------------------------------------\n"
          ]
        }
      ]
    },
    {
      "cell_type": "markdown",
      "source": [
        "### Analysis of Netflix Models Classification Report"
      ],
      "metadata": {
        "id": "o6JOz_L6kvfX"
      }
    },
    {
      "cell_type": "markdown",
      "source": [
        "I used the KNN, Random Forest, and the Logistic Regression Models to ultimately see which Machine Learning model best suited the Netflix data.\n",
        "\n",
        "The KNN Model, or the K-Nearest-Neighbors Model, has an accuracy of 0.6067. The KNN Model performed the best for the Basic subscription. Given an average f1 score of 60, this model performs reasonably well.\n",
        "\n",
        "The Random Forest Model has an accuracy of 0.5773 and the performance seems relatiely more consistent with each of the subscription types. Given the f1 Score of 57, the Random Forest Model performs worse than the KNN Model, but would be considered an ok performance.\n",
        "\n",
        "Lastly, the Logistic Regression is the most accurate Machine Learning Model with an accuracy of 0.6533. The model performed moderately well for the Premium and Basic subscription types and exceptionally well for the standard subscription type. It's interesting to see that the Standard subscription type has a precision of 0.98, which is practically ideal. Furthermore, the f1 score of the Logistic Regression is the greatest of the three, which shows that it performs well across the board with all of the different classes or subscription types.\n",
        "\n",
        "Among the three machine learning models, the Logistic regression performs the best."
      ],
      "metadata": {
        "id": "ZmWN6-I0k15Y"
      }
    },
    {
      "cell_type": "markdown",
      "source": [
        "# Section 4: Visualization of Machine Learning Results"
      ],
      "metadata": {
        "id": "Hi5jipw9HI6E"
      }
    },
    {
      "cell_type": "markdown",
      "source": [
        "Since I know that the Logistic Regression ML model is more accurate than the other three ML models, I will use this ML model for the data analysis for the Netflix dataset."
      ],
      "metadata": {
        "id": "CZQZYzI3h1cJ"
      }
    },
    {
      "cell_type": "markdown",
      "source": [
        "Below is the corresponding confusion matrix for the Logistic Regression ML model,"
      ],
      "metadata": {
        "id": "UvPU_NMLpTNV"
      }
    },
    {
      "cell_type": "code",
      "source": [
        "conf_matrix = confusion_matrix(y_test, y_pred)\n",
        "cm_display = metrics.ConfusionMatrixDisplay(confusion_matrix = conf_matrix, display_labels = [\"Basic\", \"Standard\", \"Premium\"])\n",
        "cm_display.plot()\n",
        "plt.show()"
      ],
      "metadata": {
        "id": "MsrsO5bFij6n",
        "colab": {
          "base_uri": "https://localhost:8080/",
          "height": 449
        },
        "outputId": "79f38652-3bdd-4ad1-cca3-da2273bdc44b"
      },
      "execution_count": null,
      "outputs": [
        {
          "output_type": "display_data",
          "data": {
            "text/plain": [
              "<Figure size 640x480 with 2 Axes>"
            ],
            "image/png": "[encoded data removed]"
          },
          "metadata": {}
        }
      ]
    },
    {
      "cell_type": "markdown",
      "source": [
        "### Understanding the Confusion Matrix\n",
        "This is a 3 by 3 confusion matrix, which may look confusing to read, but it is quite simple to understand. For more information on understanding to read this confusion matrix, visit the following website on [Analytics Vidhya](https://www.analyticsvidhya.com/blog/2021/06/confusion-matrix-for-multi-class-classification/).\n",
        "\n",
        "---\n",
        "\n",
        "#### True Positives\n",
        "According to the confusion matrix, this model was able to predict 244 instances correctly as basic subscription, 131 instances correctly as standard subscription, and 115 instances correctly as premium subscriptions. This makes up the true positives.\n",
        "\n",
        "---\n",
        "#### False Negatives\n",
        "\n",
        "Moving on to the false negatives, 60 instances were incorrectly labeled as not basic subscription when in fact the data was basic subscription. 88 instances were incorrectly predicted as not premium subscriptions when in fact it was. And finally 112 instances were incorrectly predicted as not premium subscription when it was.\n",
        "\n",
        "---\n",
        "#### False Positives\n",
        "\n",
        "For the false positives, 156 instances were predicted as either premium or standard when in fact it was basic subscription. 102 instances were either predicted as basic or premium when the actual label was standard subscription. And finally 2 instances were predicted as either basic or standard when the actual label was premium subscription\n",
        "\n",
        "---\n",
        "#### True Negatives\n",
        "For the basic subscription, 290 instances were correctly identified as not classified as basic subscription. For the standard subscription, 429 instances were correctly classified as not standard subscription. And finally 521 instances were correctly identified as not premium subscription.\n",
        "\n",
        "---\n",
        "#### Summary of the Confusion Matrix\n",
        "Reflecting back at the previous classification report, the 65% prediction accuracy makes sense as when examining the confusion matrix, I had almost double the amount of correct predictions when compared to the number of incorrect predictions."
      ],
      "metadata": {
        "id": "T2G38kG-oDVU"
      }
    },
    {
      "cell_type": "markdown",
      "source": [
        "### Logistic Regression Coefficients"
      ],
      "metadata": {
        "id": "9LfdmtOzPZBr"
      }
    },
    {
      "cell_type": "markdown",
      "source": [
        "In logisitic regression, the coefficient determines the effect of one unit change in the predictor variable. The higher the coefficient the more significant the feature is in classifying the data instance."
      ],
      "metadata": {
        "id": "xzAmjgwZIUvo"
      }
    },
    {
      "cell_type": "code",
      "source": [
        "coefficients = netflix_models.get(\"Netflix Logisitic Regression\").coef_[0]\n",
        "feature_names = X.columns.tolist()\n",
        "\n",
        "# Printing each feature and their coefficient\n",
        "for idx in range(len(feature_names)):\n",
        "  print(\"Feature name:\", feature_names[idx])\n",
        "  print(\"Coefficient:\", coefficients[idx])\n",
        "  print()\n"
      ],
      "metadata": {
        "colab": {
          "base_uri": "https://localhost:8080/"
        },
        "id": "eGsOkcJKIWvt",
        "outputId": "29047d37-0abd-4716-c012-0cdc0fdd0873"
      },
      "execution_count": null,
      "outputs": [
        {
          "output_type": "stream",
          "name": "stdout",
          "text": [
            "Feature name: Age\n",
            "Coefficient: -0.0026737134511879037\n",
            "\n",
            "Feature name: Female\n",
            "Coefficient: 0.0024725843802260047\n",
            "\n",
            "Feature name: Male\n",
            "Coefficient: -0.0024725843802260047\n",
            "\n",
            "Feature name: Australia\n",
            "Coefficient: -0.2769725177940294\n",
            "\n",
            "Feature name: Brazil\n",
            "Coefficient: 0.2687226991592011\n",
            "\n",
            "Feature name: Canada\n",
            "Coefficient: -0.02105422655763505\n",
            "\n",
            "Feature name: France\n",
            "Coefficient: 0.15721120005667713\n",
            "\n",
            "Feature name: Germany\n",
            "Coefficient: 0.34851649337659213\n",
            "\n",
            "Feature name: Italy\n",
            "Coefficient: 0.5670274424359272\n",
            "\n",
            "Feature name: Mexico\n",
            "Coefficient: -0.2041690135042585\n",
            "\n",
            "Feature name: Spain\n",
            "Coefficient: -0.3288469223673286\n",
            "\n",
            "Feature name: United Kingdom\n",
            "Coefficient: -0.2536919887037634\n",
            "\n",
            "Feature name: United States\n",
            "Coefficient: -0.06761370138309171\n",
            "\n"
          ]
        }
      ]
    },
    {
      "cell_type": "markdown",
      "source": [
        "Now I find the most significant feature from the dataset,"
      ],
      "metadata": {
        "id": "FMKE0hwsLyXX"
      }
    },
    {
      "cell_type": "code",
      "source": [
        "most_significant_feature_index = max(range(len(coefficients)), key=lambda i: abs(coefficients[i]))\n",
        "most_significant_feature_name = feature_names[most_significant_feature_index]\n",
        "\n",
        "print(\"Most Significant Feature:\", most_significant_feature_name)\n",
        "print(\"Coefficient:\", coefficients[most_significant_feature_index])"
      ],
      "metadata": {
        "colab": {
          "base_uri": "https://localhost:8080/"
        },
        "id": "Ow9jFlKx6JH3",
        "outputId": "1095050e-6742-4847-954f-02d8df1407bd"
      },
      "execution_count": null,
      "outputs": [
        {
          "output_type": "stream",
          "name": "stdout",
          "text": [
            "Most Significant Feature: Italy\n",
            "Coefficient: 0.5670274424359272\n"
          ]
        }
      ]
    },
    {
      "cell_type": "markdown",
      "source": [
        "Since Italy has a coefficient of .56, it means that is the most significant feature in the dataset in predicting the subscription type."
      ],
      "metadata": {
        "id": "m7lO8TehU5ap"
      }
    },
    {
      "cell_type": "markdown",
      "source": [
        "# Section 5: Insights and Conclusion"
      ],
      "metadata": {
        "id": "BzavynKmHQHs"
      }
    },
    {
      "cell_type": "markdown",
      "source": [
        "\n",
        "\n",
        "Based on the above models and analysis:\n",
        "*   The older population are more likely to buy subscriptions that are less expensive.\n",
        "*   The three country with customers most likly to purchase more expensive subscriptions are: Italy, Germany, and Brazil.\n",
        "*   The customers in Spain, Australia, and United Kingdom are least likely to purchase more expensive subscriptions.\n",
        "\n",
        "From these analysis, it can be concluded that the demography most likely to purchase the more expensive subscription are the younger customers from Italy, Germany, or Brazil.\n",
        "\n",
        "If I was to expand the topic further, the next goal would be analyzing the total and monthly revenue for the demography and how they change over time. These analysis would give insight into the change of Netflix's popularity and revenue in different demographic.\n",
        "\n"
      ],
      "metadata": {
        "id": "Jt4eicIqVHdc"
      }
    },
    {
      "cell_type": "code",
      "source": [
        "# Remove this part after creating html\n",
        "%%shell\n",
        "jupyter nbconvert --to html /content/CMSC320_Final_Project.ipynb"
      ],
      "metadata": {
        "id": "nEKxdRSNoFJX",
        "outputId": "47f28403-ab4a-4843-c12c-c5e92479c6e3",
        "colab": {
          "base_uri": "https://localhost:8080/"
        }
      },
      "execution_count": null,
      "outputs": [
        {
          "output_type": "stream",
          "name": "stdout",
          "text": [
            "[NbConvertApp] Converting notebook /content/CMSC320_Final_Project.ipynb to html\n",
            "[NbConvertApp] Writing 1119759 bytes to /content/CMSC320_Final_Project.html\n"
          ]
        },
        {
          "output_type": "execute_result",
          "data": {
            "text/plain": []
          },
          "metadata": {},
          "execution_count": 602
        }
      ]
    }
  ]
}